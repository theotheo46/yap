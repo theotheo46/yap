{
 "cells": [
  {
   "cell_type": "markdown",
   "id": "6fc812bd",
   "metadata": {},
   "source": [
    "Приветствую Дмитрий! \n",
    "\n",
    "Рад нашей новой встрече (на \"коровах\" работали вместе с тобой)!\n",
    "\n",
    "Меня по прежнему зовут Александр Непомнящий и я буду проверять твой проект )))\n",
    "\n",
    "Повторно обо мне: я работаю в сфере информационных технологий, аналитика (анализ) данных - это и мой рабочий функционал и личная, интересная мне область для саморазвития. Используемый стек: python, pandas, графические библиотеки matplotlib/seaborn/plotly. Сфера применения: маркетинговая аналитика в медицинской клинике (Клиника «Кивач», www.kivach.ru, республика Карелия). Если вдруг есть вопрос – что делает аналитик в коммерческой медицине – то вот короткий ответ. Самый главный вопрос, на который мы хотим получить ответ (и который в дальнейшем приведёт к перераспределению рекламного бюджета, плюс напрямую повлияет на разработку и предложению рынку новых лечебных программ) - это КТО ОН, НАШ КЛИЕНТ? Фактически это задача (на нашем внутреннем языке формулируется как построение и анализ «ПОРТРЕТА КЛИЕНТА»). Визуализируем и пытаемся придать смысл половозрастным данным наших клиентов, кто из какого региона и в какие времена года к нам приезжает. Учитываем количество приездов. Учитываем на какую программу этот конкретный клиент приехал в первый раз и как в дальнейшем меняются его предпочтения. Пытаемся построить модель оттока и спрогнозировать, когда клиент уйдёт в отток. Смотрим цифры (суммы трат клиентов на отдельных группах медицинских программ). Анализируем медицинские услуги, которые входят в путёвку, а также что, в каких количествах и на какую сумму клиент покупает дополнительно. Очень вкратце как-то так.\n",
    "\n",
    "Теперь к сути: основная цель моей проверки - пройти по шагам, по логике твоего решения и обсудить те моменты, которые можно изменить, улучшить, довести до идеала. Такой формат работы двух программистов (аналитиков) ты или уже встречал(а), или встретишь на своей новой работе. Кто-то такой процесс называет \"код-ревью\", ну а как по мне, так это обмен опытом двух коллег, когда каждый из нас становиться лучше в процессе дискуссии.\n",
    "\n",
    "Свои мысли, советы, комментарии и вопросы я буду оставлять в текстовых ячейках (markdown) ПОД твоим кодом. \n",
    "Для твоего удобства все эти заметки будут \"цветными\", как на примерах ниже:\n",
    "\n",
    "\"Зелеными\" комментариями я буду отмечать твой элегантный (\"красивый\") код и/или удачные решения, на которые ты можешь смело опираться в будущих проектах.\n",
    "<div class=\"alert alert-success\">\n",
    "<b>Отлично! 👍</b>\n",
    "\n",
    "Отличная находка, элегантный код ...</div>\n",
    "\n",
    "\"Жёлтые\" комментарии - это мои размышления, предложения, что-то, что на следующей итерации можно сделать по-другому. Твоя реакция на \"жёлтые\" комментарий необходима и подразумевает или правки, или реакцию или аргументированное согласие/не согласие. Я искренне верю, что наш двусторонний диалог под \"желтым\" комментарием - это то, от чего твой проект только выиграет. <div class=\"alert alert-warning\">\n",
    "<b>Комментарий 👉</b>\n",
    "\n",
    "Здесь я бы предложил использовать .... Мои аргументы в пользу этого ...</div>\n",
    "\n",
    "\"Красные\" комментарий будут появляться, когда что-то пойдёт не так: например, код будет выдавать ошибку. Или, когда в проекте не будет ответов на основные вопросы, ради которых весь анализ и выполнялся. \"Красные\" комментарии необходимо будет исправить, прежде чем я смогу принять проект.\n",
    "<div class=\"alert alert-danger\">\n",
    "<b>Необходимо исправить ❌</b>\n",
    "\n",
    "В этой ячейке код работает не так как задумано ...</div>\n",
    "\n",
    "Пожалуйста, не перемещай, не изменяй и не удаляй мои комментарии. Это поможет мне оперативно выполнить повторную проверку твоего проекта.\n",
    "\n",
    "Давай работать над проектом в диалоге: если ты что-то меняешь в проекте по моим рекомендациям — пиши об этом, лучше всего в новой ячейке, сразу под моим комментарием. Если для своих комментариев ты будешь использовать какой-то заметный цвет, то мне будет легче отследить твои изменения, например так:\n",
    "<div style=\"background: #B0E0E6; padding: 5px; border: 1px solid SteelBlue; border-radius: 5px;\">\n",
    "    <font color='4682B4'><u><b>КОММЕНТАРИЙ СТУДЕНТА</b></u></font>\n",
    "    <br />\n",
    "    <font color='4682B4'>Текст твоего комментария ...</font>\n",
    "</div>\n",
    "\n",
    "**Распространенные типичные недочёты в проектах студентов:**\n",
    "\n",
    "<div class=\"alert alert-danger\" ❌>\n",
    "Неработоспособный код. Проверь проект на работоспособность перед отправкой на проверку. Это важный навык, который тебе пригодится как на собеседовании, при выполнении тестового задания, так и перед совещанием у руководства компании.</div>\n",
    "<div class=\"alert alert-danger\" ❌>\n",
    "Проект не структурирован. В проекте должна быть структура, т.е. названия разделов и подразделов должны быть записаны в ячейках Markdown.</div>\n",
    "<div class=\"alert alert-warning\" 👉 >\n",
    "Отсутствие описания, целей проекта, его задач, выводов. В описании должны быть озвучены поставленные задачи, содержание датасета, промежуточные и финальные выводы. Как правило, заказчик читает только финальный вывод, поэтому важно добавить информацию о проведенном исследовании, применить форматирование текста, в общем, сделать красиво, чтобы было понятно, что проведено настоящее исследование и выводу можно верить.</div>  \n",
    "<div class=\"alert alert-warning\" 👉 >\n",
    "\"Длинный код\". Код и и комментарии, которые прячутся за правым концом ячейки нужно переносить на новую строку. Твои будущие коллеги не оценят необходимость постоянного скроллинга. Согласно PEP8: https://www.python.org/dev/peps/pep-0008/ длина строки не должна превышать 79 символов.</div>\n",
    "<div class=\"alert alert-warning\" 👉 >\n",
    "Твои коллеги ценят и твое и своё время, поэтому \"подсвечивай\" свои комментарии в ячейках Markdown. Подробнее про синтаксис Markdown, с примерами, можно почитать здесь: https://paulradzkov.com/2014/markdown_cheatsheet/?\n",
    "</div>"
   ]
  },
  {
   "cell_type": "code",
   "execution_count": 1,
   "id": "885185db",
   "metadata": {},
   "outputs": [
    {
     "name": "stdout",
     "output_type": "stream",
     "text": [
      "Name: numpy\n",
      "Version: 1.24.2\n",
      "Summary: Fundamental package for array computing in Python\n",
      "Home-page: https://www.numpy.org\n",
      "Author: Travis E. Oliphant et al.\n",
      "Author-email: \n",
      "License: BSD-3-Clause\n",
      "Location: /usr/local/python/3.10.13/lib/python3.10/site-packages\n",
      "Requires: \n",
      "Required-by: contourpy, matplotlib, numba, pandas, phik, scikit-learn, scipy, seaborn, shap, torchvision\n",
      "Note: you may need to restart the kernel to use updated packages.\n"
     ]
    }
   ],
   "source": [
    "pip show numpy"
   ]
  },
  {
   "cell_type": "markdown",
   "id": "2d2d5736-065a-4179-8f63-c275e3689981",
   "metadata": {},
   "source": [
    "# Самостоятельный проект. Обучение с учителем: качество модели"
   ]
  },
  {
   "cell_type": "markdown",
   "id": "185a939a-52af-40b1-897a-e831025b5fcf",
   "metadata": {},
   "source": [
    "## 1. Введение\n",
    "\n",
    "Интернет-магазин «В один клик» продаёт разные товары: для детей, для дома, мелкую бытовую технику, косметику и даже продукты. Отчёт магазина за прошлый период показал, что активность покупателей начала снижаться. Привлекать новых клиентов уже не так эффективно: о магазине и так знает большая часть целевой аудитории. Возможный выход — удерживать активность постоянных клиентов. Сделать это можно с помощью персонализированных предложений.\n",
    "«В один клик» — современная компания, поэтому её руководство не хочет принимать решения просто так — только на основе анализа данных и бизнес-моделирования. У компании есть небольшой отдел цифровых технологий, и вам предстоит побыть в роли стажёра в этом отделе. \n",
    "Итак, вашему отделу поручили разработать решение, которое позволит персонализировать предложения постоянным клиентам, чтобы увеличить их покупательскую активность.\n",
    "\n",
    "#### Шаги по решению задачи:\n",
    "- Нужно промаркировать уровень финансовой активности постоянных покупателей. В компании принято выделять два уровня активности: «снизилась», если клиент стал покупать меньше товаров, и «прежний уровень».\n",
    "- Нужно собрать данные по клиентам по следующим группам:\n",
    "  * Признаки, которые описывают коммуникацию сотрудников компании с клиентом.\n",
    "  * Признаки, которые описывают продуктовое поведение покупателя. Например, какие товары покупает и как часто\n",
    "  * Признаки, которые описывают покупательское поведение клиента. Например, сколько тратил в магази\n",
    "  * Признаки, которые описывают поведение покупателя на сайте. Например, как много страниц просматривает и сколько времени проводит на сайте\n",
    " \n",
    "#### Требования\n",
    "- Нужно построить модель, которая предскажет вероятность снижения покупательской активности клиента в следующие три месяца.\n",
    "- В исследование нужно включить дополнительные данные финансового департамента о прибыльности клиента: какой доход каждый покупатель приносил компании за последние три месяца\n",
    "- Используя данные модели и данные о прибыльности клиентов, нужно выделить сегменты покупателей и разработать для них персонализированные предложения.нные предложения.ь."
   ]
  },
  {
   "cell_type": "markdown",
   "id": "a81952dc",
   "metadata": {},
   "source": [
    "<div class=\"alert alert-success\">\n",
    "<b>ОТЛИЧНО! 👍</b>\n",
    "\n",
    "Ты делаешь хорошую работу уже в начале нашего проекта по Data Science. Твой подход к описанию всего проекта уже с самого начала – это плюс. Ты ясно и четко формулируешь цель нашего исследования, что дает нам прочную основу для дальнейших этапов. В реальном проекте выбор метрики для оценки успеха проекта говорил бы о твоем глубоком понимании сути задачи (но здесь, конечно, метрику выбрали авторы задачи за нас).\n",
    "\n",
    "Твое описание того, как ты будешь двигаться дальше, также впечатляет. Твои действия по обработке и структурированию данных в начальных этапах – это правильный шаг. Также отмечу, что твое умение систематизировать данные с самого начала проекта позволяет нам лучше понимать характер данных и уже сейчас делать некоторые предварительные наметки. Такой подход в начале аналитического/Дата Сайенс проекта говорит о твоей компетентности и ставит нас на \"правильную дорогу\" для успешного исследования.\n",
    "</div>"
   ]
  },
  {
   "cell_type": "markdown",
   "id": "78eb1caa-03ac-4479-b466-bbbf743418a3",
   "metadata": {},
   "source": [
    "## 2. Загрузка данных"
   ]
  },
  {
   "cell_type": "code",
   "execution_count": null,
   "id": "35205cd2-2538-4800-8deb-6df9c72dc6f7",
   "metadata": {},
   "outputs": [],
   "source": [
    "!pip install phik\n",
    "!pip install shap"
   ]
  },
  {
   "cell_type": "markdown",
   "id": "5cb23e36",
   "metadata": {},
   "source": [
    "<div class=\"alert alert-warning\">\n",
    "<b>Комментарий 👉</b>\n",
    "\n",
    "Полезный ключ **-q** (он \"подавит\" служебные сообщения об установке, которых может быть достаточно много - вплоть до нескольких экранов прокрутки).\n",
    "</div>"
   ]
  },
  {
   "cell_type": "code",
   "execution_count": null,
   "id": "922b9ebd-2576-4982-81ef-fc69a1206a02",
   "metadata": {},
   "outputs": [],
   "source": [
    "import numpy as np\n",
    "import pandas as pd\n",
    "import seaborn as sns\n",
    "import matplotlib.pyplot as plt\n",
    "import matplotlib.ticker as ticker\n",
    "from sklearn.model_selection import train_test_split\n",
    "from sklearn.pipeline import Pipeline\n",
    "from sklearn.preprocessing import OneHotEncoder, OrdinalEncoder, StandardScaler, MinMaxScaler, RobustScaler\n",
    "from sklearn.compose import ColumnTransformer\n",
    "from sklearn.impute import SimpleImputer\n",
    "from sklearn.metrics import roc_auc_score, precision_score, make_scorer\n",
    "from sklearn.model_selection import RandomizedSearchCV, GridSearchCV\n",
    "from sklearn.linear_model import LogisticRegression\n",
    "from sklearn.neighbors import KNeighborsClassifier\n",
    "from sklearn.tree import DecisionTreeClassifier\n",
    "from matplotlib.axes._axes import _log as matplotlib_axes_logger\n",
    "from phik import phik_matrix\n",
    "from phik.report import plot_correlation_matrix\n",
    "from sklearn.svm import SVC\n",
    "import shap\n",
    "matplotlib_axes_logger.setLevel('ERROR')\n",
    "import warnings\n",
    "warnings.simplefilter(action='ignore', category=FutureWarning)\n",
    "\n",
    "pd.set_option('max_colwidth', -1)\n",
    "\n",
    "RANDOM_STATE = 42\n",
    "TEST_SIZE = 0.25\n",
    "sns.set()"
   ]
  },
  {
   "cell_type": "markdown",
   "id": "2239b1ac",
   "metadata": {},
   "source": [
    "<div class=\"alert alert-success\">\n",
    "<b>ОТЛИЧНО! 👍</b>\n",
    "\n",
    "Отлично, все импорты собраны в начале \"тетрадки\"!\n",
    "\n",
    "---\n",
    "В Python есть своя философия. Именно отсюда берутся определенные правила и стандарты. В пайтон такое соглашение назвали PEP8.\n",
    "\n",
    "Соответствие PEP8 позволяет видеть основную структуру вашего кода другим разработчикам. Не нужно привыкать к другому оформлению кода. Если вы привыкли как-то оформлять код, а увидели что-то совершенно другое, то вы поймете. \n",
    "\n",
    "Официальная документация: https://peps.python.org/pep-0008/ \n",
    "\n",
    "Основные моменты и рекомендации:\n",
    "\n",
    "- Используй пробелы, разрешается использование табов, но смешивание запрещено. Отступ соответствует 4 пробелам. Хорошие редакторы кода автоматически заменяют табы на пробелы.\n",
    "\n",
    "- Вокруг операторов +, -, =, *, /, ** должны быть пробелы. \n",
    "\n",
    "- Строка не должна превышать 79 символов\n",
    "\n",
    "- Ну и наконец про импорты: импорты можно делать только по одному на строку! При этом из одного модуля можно доставать несколько нужных объектов. Порядок тоже важен:\n",
    "\n",
    "- импорты из стандартной библиотеки\n",
    "- импорты из сторонних библиотек\n",
    "- импорты пользовательских модулей текущего проекта (например если выносишь функции в отдельный модуль)\n",
    "\n",
    "И нежелательно их перемешивать с константами и переменными.\n",
    "\n",
    "p.s. состав стандартных библиотек Python здесь: [The Python Standard Library](https://docs.python.org/3/library/)\n",
    "</div>"
   ]
  },
  {
   "cell_type": "markdown",
   "id": "16567541",
   "metadata": {},
   "source": [
    "<div class=\"alert alert-warning\">\n",
    "<b>Комментарий 👉</b>\n",
    "\n",
    "В ходе разработки я бы не стал \"давить\" предупреждения, чтобы посмотреть на то какие предупреждения мой код генерирует. Но всё это только до того момента, пока код не станет готовым для передачи в production.</div>"
   ]
  },
  {
   "cell_type": "code",
   "execution_count": null,
   "id": "083d87f0-f922-45dd-8770-c6bba67e23de",
   "metadata": {},
   "outputs": [],
   "source": [
    "df_market = pd.read_csv('https://code.s3.yandex.net/datasets/market_file.csv')\n",
    "display(df_market.head(5))\n",
    "df_market.info()\n",
    "\n",
    "df_market_money = pd.read_csv('https://code.s3.yandex.net/datasets/market_money.csv')\n",
    "display(df_market_money.head(5))\n",
    "df_market_money.info()\n",
    "\n",
    "df_market_time = pd.read_csv('https://code.s3.yandex.net/datasets/market_time.csv')\n",
    "display(df_market_time.head(5))\n",
    "df_market_time.info()\n",
    "\n",
    "df_money = pd.read_csv('https://code.s3.yandex.net/datasets/money.csv', sep = ';', decimal=\",\")\n",
    "display(df_money.head(5))\n",
    "df_money.info()"
   ]
  },
  {
   "cell_type": "markdown",
   "id": "eb749bf4",
   "metadata": {},
   "source": [
    "<div class=\"alert alert-success\">\n",
    "<b>ОТЛИЧНО! 👍</b>\n",
    "\n",
    "Отлично. Импортировали требуемые для анализа библиотеки и загрузили данные. Сейчас посмотрим на их состояние и если всё ОК, сможем приступать к построению моделей....\n",
    "\n",
    "p.s. при установке дополнительных библиотек (через ! pip install ...) можно использовать полезный ключ **-q** (он \"подавит\" служебные сообщения об установке, которых может быть достаточно много - вплоть до нескольких экранов прокрутки)\n",
    "</div>\n"
   ]
  },
  {
   "cell_type": "markdown",
   "id": "66f57a94",
   "metadata": {},
   "source": [
    "<div class=\"alert alert-warning\">\n",
    "<b>Комментарий 👉</b>\n",
    "\n",
    "В наших данных пропусков НЕТ, НО ЕСЛИ БЫ БЫЛИ .... я стараюсь дать подробный коммент-видение на тему обработки пропусков данных (так как понимаю, что несмотря на кажущуюся простоту - не очень просто понять чем (\"заглушкой\"? / медианой? / средним? / по комбинации столбцов?) заполнять? а может удалять?      \n",
    "\n",
    "---    \n",
    "По результатам проверки примерно 3,6 тысяч проектов за крайние 1,5 года у меня родилось небольшое эссе на тему \"удаления vs. спасения\" данных, как раз на основе тех ситуаций и вопросов, которые мне коллеги задавали, которые мы обсуждали, уточняли и исправляли ... \n",
    "\n",
    "<br>\n",
    "<br>\n",
    "<details>\n",
    "<summary style=\"color: blue; font-size: 18px; font-weight: bold;\">▶ <u>Подробнее ...</u></summary>\n",
    "\n",
    "Желание уменьшить количество пропусков в данных (если такое желание конечно возникает ... но в рабочих проектах, \"в жизни\" оно как правило возникает) - можно только приветствовать. Приветствовать по 3-м минимум причинам:\n",
    "\n",
    "1. это тренировка\n",
    "    \n",
    "2. это попытка сохранить данные (\"данных много не бывает\")\n",
    "    \n",
    "3. самое главное на мой взгляд - развитие аналитического мышления, желания \"проникать\" в секреты, которые скрывают данные. Когда вначале рождается гипотеза, потом эта гипотеза проверяется на данных (может ли такое быть? подтверждается?) и в финале уже гипотеза облекается в код.\n",
    "\n",
    "Однако заполнение пропусков в данных не такая простая задача, как кажется ... простого ответа на вопросы: заполнять? удалить? чем заполнять? подходящего под все сценарии, нет ни в одной умной книжке ...\n",
    "\n",
    "Самый идеальный случай - когда у тебя под рукой есть эксперт в предметной области. Если такой есть - советуйся с ним. Как правило это человек из бизнеса, который знает суть бизнес-процесса и вот именно он даст тебе точный и аргументированный совет - что в данной, конкретной задаче делать с \"битыми\" полями в строках датафрейма. Ты скажешь ему какой процент пропусков в данных, а он тебе ответит что делать: можно/нельзя удалить и/или даст рекомендации по заполнению. Вообще, как правило такой человек \"на любой работе\" есть. Для примера, финансовый директор думаю всегда даст рекомендации по финансовым данным, прочие профильные спецы - по своей сфере компетенций. Наверное только в зарождающемся стартапе может не быть каких-то компетенций, но тут уже можно и через фриланс (и т.п.) попробовать найти спеца и просить совета.\n",
    "\n",
    "Теперь, что делать, если такого человека нет. Я бы ответил так: **ПОПЫТАТЬСЯ** вникнуть в бизнес-проблему самому. Наверное это сложно, если предметная область ну совсем незнакома. Но в общем случае, если бизнес совсем незнаком, то заполнение пропусков в данных наверное, не получиться. В таком случае попробуй ориентироваться на такое правило: если записи с пропусками в ключевых для твоего анализа столбцах составляют 1-3-5-ну может до 10% строк, то попробуй эти записи из оригинального датафрейма вырезать (но сохрани бы в некий df, к которому ты при необходимости можешь всегда обратиться).\n",
    "\n",
    "В жизни, МНЕ КАЖЕТСЯ, как правило по всему датафрейму заполнять медианой/средним - ну вообще не вариант. Почему? Я бы ответил так - потому, что реальные датафреймы имеют миллионы строк и горизонт в несколько (десятков) лет, и если в 90-2000-е года всё было как-то более -менее стабильно/прогнозируемо, то в нынешней реальности события раскручиваются гораздо быстрее и не прогнозируемо. Пример: ты аналитик в автобизнесе. У тебя есть данные с пропусками в цене для машин в 2005-2007 года. Можно заполнить их средними основываясь на данных 2020-2021?\n",
    "\n",
    "Может быть и такой вариант, что без заполнения некоторых столбцов некоторые записи по сути **НЕ** имеют смысла, но если их (записи с пропусками удалить), то и данных-то не останется. Ну тогда я бы такой совет дал - всё же заполнять медианой (она к скачкам выбросов более устойчива), но не по всему глобальному датафрейму, а выбрать простые группы (например, группы по интервалу лет - чтобы сгладить турбулентность нынешних лет) или выбрать более сложные группы (например, группы по интервалу лет и одновременно марке автопроизводителя (это я про вымышленный пример с автобизнесом)).\n",
    "\n",
    "Теперь предположим, что мы выбрали какую-то стратегию заполнения \"пропусков\", не суть какую (оставить NaN или заполнить \"заглушкой\"). И в том и в другом случае придётся помнить этот выбор. Ты спросишь почему? Отвечу - потому, что инструменты, применяемые тобой в Питон/Пандас в каких-то случаях могут спокойно пропускать твой выбор, а в каких-то случаях тебе придется этот твой выбор обрабатывать.\n",
    "\n",
    "Пример 1: мы заполнили пропуски \"заглушкой\". В этом случае: 1. расчет корреляций значение \"заглушку\" будет \"ловить\" (надо отфильтровать!), 2. расчет гипотез также будет \"сбивать\" правильный вывод (надо отфильтровать!) 3. графики, которые ты будешь строить - будут \"заглушку\" отображать на осях (нужно фильтровать), 4. в группировках также по-видимому \"заглушку\" надо будет убирать.\n",
    "\n",
    "Пример 2: мы оставили пропуски как NaN. В этом случае: 1. метод .corr NaN'ы пропускает (отфильтровать не надо), 2. в расчет гипотез всё равно пропуски отфильтровать 3. графики, которые ты будешь строить могут отображать, а могут не отображать, 4. в группировках NaN'ы по sum() видны не будут, а по count() будут.\n",
    "\n",
    "Ну и напоследок совсем уже жёсткий пример: додумывать \"от себя\", бездумно проставлять в пропуски медианные/средние значения - это НЕ верно. Давай же опять \"про жизнь\". Я писал выше, что в медицине работаю, да? **Предположим** мне принесли данные из онкологического диспансера. Задача: построить модель, которая по некоторым маркерным анализам будет прогнозировать наличие онкологии. **По-простому, ответить, что стоит за строчкой в данных: жизнь или смерть.** Уууууух … аж мороз по коже продирает, правда? \n",
    "\n",
    "Итак, 1.000.000 записей и 70 столбцов. Данные за 25 лет. 70 столбцов - это поля, с результатами конкретных и очень специфичных анализов. В \"начале\" данных, 15-20 лет назад, есть пропуски (много), но и в принципе, в данных есть пропуски. Как думаешь - имею я моральное право перед людьми, которые фактически доверяют мне в виде данных свою жизнь огульно подойти к заполнению пропусков?\n",
    "\n",
    "</details>\n",
    "<br>\n",
    "<br>\n",
    "</div>\n"
   ]
  },
  {
   "cell_type": "markdown",
   "id": "3cfd582b-0726-428f-baef-5334f6618093",
   "metadata": {},
   "source": [
    "Загружены данные из четырех CSV файлов в соответствующие датафреймы. Данные представляются соответствующими названиям колонок, в числовых колонках лежат числовые данные а в категориальных - категориальные. Названия колонок являются консистентными между датафреймами и необходимости приводить их к единому формату нет."
   ]
  },
  {
   "cell_type": "markdown",
   "id": "bb655d06",
   "metadata": {},
   "source": [
    "<div class=\"alert alert-success\">\n",
    "<b>ОТЛИЧНО! 👍</b>\n",
    "\n",
    "Хорошо, данные загрузили, первичные проверки сделали.\n",
    "</div>"
   ]
  },
  {
   "cell_type": "markdown",
   "id": "9010151e-2fae-4fe7-bb92-ecc26bf9ad01",
   "metadata": {},
   "source": [
    "## 3. Предобработка данных"
   ]
  },
  {
   "cell_type": "code",
   "execution_count": null,
   "id": "28e1fc50-4980-4450-be5a-0bdbb6963858",
   "metadata": {},
   "outputs": [],
   "source": [
    "def print_unique_values_for_string_columns(df_list):\n",
    "    for df_name, df in df_list:\n",
    "        print('')\n",
    "        print(f'************ df is {df_name} **************')\n",
    "        col_list = df.select_dtypes(exclude=np.number).columns\n",
    "        for col in col_list:\n",
    "            print(f'*** column is {col}')\n",
    "            print(df[col].value_counts())\n",
    "\n",
    "\n",
    "print(f'Количество дубликтов: df_market: {df_market.duplicated(subset=\"id\").sum()}, df_market_money: {df_market_money.duplicated(subset=\"id\").sum()}, df_market_time: {df_market_time.duplicated(subset=\"id\").sum()}, df_money: {df_money.duplicated(subset=\"id\").sum()}')\n",
    "\n",
    "df_market_str_col_list = df_market.select_dtypes(exclude=np.number).columns\n",
    "df_market[df_market_str_col_list] = df_market[df_market_str_col_list].astype('string')\n",
    "\n",
    "df_market_str_col_list = df_market_money.select_dtypes(exclude=np.number).columns\n",
    "df_market_money[df_market_str_col_list] = df_market_money[df_market_str_col_list].astype('string')\n",
    "\n",
    "df_market_str_col_list = df_market_time.select_dtypes(exclude=np.number).columns\n",
    "df_market_time[df_market_str_col_list] = df_market_time[df_market_str_col_list].astype('string')\n",
    "\n",
    "df_market.info()\n",
    "df_market_money.info()\n",
    "df_market_time.info()\n",
    "\n",
    "print(f'Количество пропусков: df_market: {df_market.isna().mean()}')\n",
    "print(f'Количество пропусков: df_market_money: {df_market_money.isna().mean()}')\n",
    "print(f'Количество пропусков: df_market_time: {df_market_time.isna().mean()}')\n",
    "print(f'Количество пропусков: df_money: {df_money.isna().mean()}')\n",
    "\n",
    "df_list = [('df_market', df_market), ('df_market_money',df_market_money), ('df_market_time',df_market_time)]\n",
    "print_unique_values_for_string_columns(df_list)\n",
    "\n",
    "df_market['Тип сервиса'] = df_market['Тип сервиса'].replace('стандартт', 'стандарт')\n",
    "# df_market_money['Период'] = df_market_money['Период'].replace('препредыдущий_месяц', 'предыдущий_месяц')\n",
    "df_market_time['Период'] = df_market_time['Период'].replace('предыдцщий_месяц', 'предыдущий_месяц')\n",
    "\n",
    "print_unique_values_for_string_columns(df_list)\n",
    "print(f'Количество дубликтов: df_market: {df_market.duplicated(subset=\"id\").sum()}, df_market_money: {df_market_money.duplicated(subset=\"id\").sum()}, df_market_time: {df_market_time.duplicated(subset=\"id\").sum()}, df_money: {df_money.duplicated(subset=\"id\").sum()}')\n",
    "\n",
    "\n",
    "# df_market=df_market.set_index('id', drop=True)\n",
    "# df_market_money=df_market_money.set_index('id', drop=True)\n",
    "# df_market_time=df_market_time.set_index('id', drop=True)\n",
    "# df_money=df_money.set_index('id', drop=True)\n",
    "\n",
    "# print(f'Количество дубликтов: df_market: {df_market.duplicated().sum()}, df_market_money: {df_market_money.duplicated().sum()}, df_market_time: {df_market_time.duplicated().sum()}, df_money: {df_money.duplicated().sum()}')"
   ]
  },
  {
   "cell_type": "markdown",
   "id": "164a44b2",
   "metadata": {},
   "source": [
    "<div class=\"alert alert-warning\">\n",
    "<b>Комментарий 👉</b>\n",
    "\n",
    "Хочу отметить, что в общем случае даже если **df.duplicated().sum() == 0** - это может совсем не означать, что в данных нет дубликатов. \n",
    "    \n",
    "---\n",
    "В реальных рабочих датасетах скорее всего не будет полных дубликатов, но вот неявные наверняка будут встречаться, соответственно с ними надо будет уметь работать. Для поиска неявных дублей обычно используют параметр **subset** у функции duplicated(). Правда здесь, в нашем проекте, надо поразмыслить над тем какие комбинации столбцов могут говорить о реальных дублях в данных.</div>"
   ]
  },
  {
   "attachments": {
    "image.png": {
     "image/png": "[encoded data removed]"
    }
   },
   "cell_type": "markdown",
   "id": "281d6245",
   "metadata": {},
   "source": [
    "<div class=\"alert alert-success\">\n",
    "<b>ОТЛИЧНО! 👍</b>\n",
    "\n",
    "![image.png](attachment:image.png)    \n",
    "    \n",
    "Отлично, молодец, обнаружено первое (из 2х) \"разночтений\" по факту одних и тех же категорий в признаках.</div>"
   ]
  },
  {
   "attachments": {
    "image.png": {
     "image/png": "[encoded data removed]"
    }
   },
   "cell_type": "markdown",
   "id": "1dfc2afd",
   "metadata": {},
   "source": [
    "<div class=\"alert alert-success\">\n",
    "<b>ОТЛИЧНО! 👍</b>\n",
    "\n",
    "![image.png](attachment:image.png)    \n",
    "    \n",
    "Второе \"разночтение\" также обнаружено и исправлено!</div>"
   ]
  },
  {
   "cell_type": "markdown",
   "id": "2641d31b-3651-4a74-901e-993a2bd82d0a",
   "metadata": {},
   "source": [
    "На стадии предобработки данных была проведены следующие проверки: \n",
    "- на дубликаты по значению id :\n",
    "  - для df_market  не обнаружены - то есть нет записей с одним и тем же значением id что представляет собой общий номер покупателя в корпоративной базе данных\n",
    "  - для df_market_money и df_market_time есть дубликаты по id и это можно объяснить что между df_market и двумя этими таблицами есть отношение One-to-Many\n",
    "- на пропуски данных - не обнаружены\n",
    "\n",
    "Кроме того, все поля нечисловых типов были привелены к типу string\n",
    "\n",
    "После этого была проведена проверка на уникальность значений категориальных полей для обнаружения возможных ошибок ввода. Были обнаружены следующие несоответствия:\n",
    "- Для датафрейма df_market:\n",
    "  - Колонка **Тип сервиса**\n",
    "    - стандарт и стандартт\n",
    "- Для датафрейма df_market_time:\n",
    "  - Колонка **Период**\n",
    "    - предыдцщий_месяц но правильное значение должно быть **предыдущий_месяц**\n",
    "   \n",
    "Итого - по результатам проверки были сделаны следующие корректировки:\n",
    "- В датафрейме df_market в колонке **Тип сервиса** значение **стандартт** переименовано в **стандарт**\n",
    "- В датафрейме df_market_time в колонке **Период** значение **предыдцщий_месяц** переименовано в **предыдущий_месяц**\n",
    "\n",
    "Проверка на дубликаты всех полей кроме id не проводилась так как в данном проекте считается, что только id является уникальным идентификатором клиента и если у двух разных клиентов все остальные поля совпадают это не баг и просто совпадение."
   ]
  },
  {
   "cell_type": "markdown",
   "id": "c03aa4a4",
   "metadata": {},
   "source": [
    "<div class=\"alert alert-success\">\n",
    "<b>ОТЛИЧНО! 👍</b>\n",
    "\n",
    "В этом разделе всё ОК: необходимые после загрузки данных действия (1. требования PEP8, 2. дубликаты, 3. анализ уникальных значений в признаках, 4. пропуски) выполнены. Этот вывод результат твоей работы описывает и подъитоживает. Здесь всё супер, молодец!\n",
    "\n",
    "</div>"
   ]
  },
  {
   "cell_type": "markdown",
   "id": "5ff1763d-910f-4e30-b8f2-ed1c3bfc30db",
   "metadata": {},
   "source": [
    "## Шаг 4. Исследовательский анализ данных"
   ]
  },
  {
   "cell_type": "code",
   "execution_count": null,
   "id": "3ef51cc9-d4df-42e7-ad8f-20c40e7d4b10",
   "metadata": {},
   "outputs": [],
   "source": [
    "display(df_market.describe())\n",
    "display(df_market_money.describe())\n",
    "display(df_market_time.describe())\n",
    "display(df_money.describe())\n",
    "\n",
    "def plot_sub_plot_hist_boxplot(df, title):\n",
    "    for col in df.columns:\n",
    "        if col == 'id':\n",
    "            continue\n",
    "        fig, axes = plt.subplots(nrows=1, ncols=2)\n",
    "        df[col].plot(kind=\"hist\", title=col, figsize=(10, 5), ax = axes[0])\n",
    "        sns.boxplot(df[col], ax = axes[1])\n",
    "        plt.title(title)\n",
    "        plt.show()\n",
    "\n",
    "def plot_pie_plot_for_columns(df, title):\n",
    "    for col in df.columns:\n",
    "        df[col].value_counts().plot(kind='pie', labels=None, label='', autopct='%1.0f%%', legend=True, figsize=(5,5), title=col);\n",
    "        plt.title(title)\n",
    "        plt.show()\n",
    "\n",
    "\n",
    "plot_sub_plot_hist_boxplot(df_market.select_dtypes(include=np.number), 'df_market')\n",
    "plot_pie_plot_for_columns(df_market.select_dtypes(exclude=np.number), 'df_market')\n",
    "\n",
    "plot_sub_plot_hist_boxplot(df_market_money.select_dtypes(include=np.number), 'df_market_money')\n",
    "plot_pie_plot_for_columns(df_market_money.select_dtypes(exclude=np.number), 'df_market_money')\n",
    "\n",
    "plot_sub_plot_hist_boxplot(df_market_time.select_dtypes(include=np.number), 'df_market_time')\n",
    "plot_pie_plot_for_columns(df_market_time.select_dtypes(exclude=np.number), 'df_market_time')\n",
    "\n",
    "plot_sub_plot_hist_boxplot(df_money.select_dtypes(include=np.number), 'df_money')\n",
    "plot_pie_plot_for_columns(df_money.select_dtypes(exclude=np.number), 'df_money')"
   ]
  },
  {
   "cell_type": "markdown",
   "id": "6171bc93",
   "metadata": {},
   "source": [
    "<div class=\"alert alert-warning\">\n",
    "<b>Комментарий 👉</b>\n",
    "\n",
    "describe() играет важную роль в понимание распределения статистик признаков в данных. Отсюда можно увидеть аномалии, выбросы. Просто \"посмотреть\" на эти таблички недостаточно, обязательно нужен вывод по анализу результата describe().\n",
    "\n",
    "---\n",
    "describe() в pandas - это мощный метод, который предоставляет статистическое описание данных. Вот несколько причин, почему describe() важен:\n",
    "\n",
    "1. Общее понимание данных: describe() предоставляет общий обзор статистических характеристик, таких как среднее значение, стандартное отклонение, минимум, максимум и квартили. Это позволяет быстро понять основные характеристики данных.\n",
    "    \n",
    "2. Выявление выбросов: Анализ статистических показателей может помочь выявить аномалии или выбросы в данных. Например, если среднее значение сильно отличается от медианы, это может указывать на наличие выбросов.\n",
    "\n",
    "3. Понимание распределения данных: describe() также предоставляет информацию о распределении данных через квартили, что может быть полезным для понимания формы распределения.\n",
    "\n",
    "4. Быстрый анализ пропущенных значений: Метод также выводит количество непустых значений для каждого столбца, что может помочь в определении пропущенных данных.    \n",
    "    \n",
    "5. Сравнение различных частей данных: Можно использовать describe() для сравнения статистик различных групп данных внутри DataFrame:\n",
    "    \n",
    "        # Сравнение двух групп данных\n",
    "        group_comparison = df.groupby('column_name').describe()\n",
    "\n",
    "</div>"
   ]
  },
  {
   "cell_type": "markdown",
   "id": "7cee96f2",
   "metadata": {},
   "source": [
    "<div class=\"alert alert-success\">\n",
    "<b>ОТЛИЧНО! 👍</b>\n",
    "\n",
    "Ну здесь всё отлично, понимающему человеку ясно, что здесь ты детально исследуешь столбцы-признаки наших наблюдений. Вижу гистограммы/графики, отрисовывающие \"нумерические\" столбцы.\n",
    "\n",
    "Здесь идеально всё. Использование графиков для изучения данных - лучше и не пожелать способа. Молодец!\n",
    "</div>"
   ]
  },
  {
   "cell_type": "markdown",
   "id": "8b91d02b",
   "metadata": {},
   "source": [
    "<div class=\"alert alert-success\">\n",
    "<b>ОТЛИЧНО! 👍</b>\n",
    "\n",
    "Просто супер: графики подписаны, оси подписаны. Не часто на самом деле такой скрупулёзный подход к оформлению встречается. Молодец! Также, здорово, что (ниже) есть объяснение поведения графиков. Пытаться понять полученный результат - важная часть работы аналитика.\n",
    "\n",
    "Я закончил физико-математический факультет Петрозаводского государственного университета. Нас там с первого курса приучили - если на сдачу лабораторной работы по физике приходишь с графиком, на котором не подписано общее название, названия осей (с единицами измерений), единичная шкала - всё сдача заканчивается не начавшись. Или если у моей лабораторной работы отсутствует вывод: что делали? по какой методике? что \"намеряли\"? как интерпретировали? какой финальный вывод? - всё, тоже на выход. Ну и в принципе сейчас, на текущей работе: код, который написан в тетрадке мало кому понятен и не сильно кому интересен. Важнее детальные выводы и тренды, которые попадут на слайд презентации в PowerPoint. Именно поэтому столь важное значение в аналитике данных придается промежуточным выводам и уж тем более финальному. \n",
    "</div>"
   ]
  },
  {
   "cell_type": "markdown",
   "id": "0f563b34",
   "metadata": {},
   "source": [
    "<div class=\"alert alert-success\">\n",
    "<b>ОТЛИЧНО! 👍</b>\n",
    "\n",
    "Отлично! Боксплот рядом с гистограммой - это отлично! Гистограмма будет показывать нам распределение количественного признака, а боксплот даст информацию о выбросах и основных статистиках (квартилях) признака.\n",
    "</div>"
   ]
  },
  {
   "cell_type": "markdown",
   "id": "14fbf1e7",
   "metadata": {},
   "source": [
    "<div class=\"alert alert-warning\">\n",
    "<b>Комментарий 👉</b>\n",
    "\n",
    "Ряд признаков в наших данных имеет дискретную природу (например это: 'Маркет_актив_6_мес', 'Средний_просмотр_категорий_за_визит', ... (*не привожу все названия из данных*)). Для графического анализа дискретных признаков нужнен тип графиков, который на каждое уникальные значение признака строит свою корзину. Например, можно использовать **sns.countplot** или **.plot(kind='bar')**. Ты же для визуализации их используешь гистограмму.\n",
    "    \n",
    "---\n",
    "Гистограммы обычно хорошо подходят для визуализации распределения непрерывных числовых признаков. Это могут быть такие признаки, как возраст, доход, количество продуктов в корзине, и т.д. Гистограммы помогают наглядно представить, как значения признака распределены по диапазону.\n",
    "\n",
    "Для дискретных признаков, особенно если их значения ограничены и могут быть перечислены (например, категории, группы), столбчатые диаграммы или другие методы визуализации, такие как круговые диаграммы или ящики с усами, могут быть более подходящими.\n",
    "\n",
    "Конечно, если у тебя есть дискретный признак, который принимает большое количество разных значений, и ты хочешь понять их распределение, ты можешь попробовать использовать гистограмму, но при этом учти, что столбцы будут разреженными и могут не давать полного представления о распределении.\n",
    "\n",
    "**Важно подбирать подходящий тип графика в зависимости от природы данных и целей визуализации.**    \n",
    "</div>"
   ]
  },
  {
   "attachments": {
    "image.png": {
     "image/png": "[encoded data removed]"
    }
   },
   "cell_type": "markdown",
   "id": "ffd7cebb",
   "metadata": {},
   "source": [
    "<div class=\"alert alert-warning\">\n",
    "<b>Комментарий 👉</b>\n",
    "\n",
    "![image.png](attachment:image.png)    \n",
    "    \n",
    "Наблюдаешь ли дисбаланс в целевой переменной (таргете)? Если наблюдаешь, то как этот факт отражается на выборке метрики для моделей МО?\n",
    "</div>"
   ]
  },
  {
   "cell_type": "markdown",
   "id": "cd5a2770",
   "metadata": {},
   "source": [
    "<div class=\"alert alert-success\">\n",
    "<b>ОТЛИЧНО! 👍</b>\n",
    "\n",
    "Использование pie-диаграмм для анализа категориальных признаков - отлично!\n",
    "</div>"
   ]
  },
  {
   "attachments": {
    "image.png": {
     "image/png": "[encoded data removed]"
    }
   },
   "cell_type": "markdown",
   "id": "9c69d5a1",
   "metadata": {},
   "source": [
    "<div class=\"alert alert-warning\">\n",
    "<b>Комментарий 👉</b>\n",
    "\n",
    "![image.png](attachment:image.png)    \n",
    "    \n",
    "Специалисты по визуализации утверждают, что наш мозг?/глаз? **очень плохо \"различает различия\"** между \"примерно одинаковыми\" кусочками pie-диаграммы. Ну и соответственно рекомендуют использовать столбиковые?/столбцовые? диаграммы. У тебя конечно цифрами \"кусочки\" подписаны, но тем не менее мнение такое в среде специалистов по визуализации существует.\n",
    "\n",
    "Я ни в коем случае не против pie-диаграмм! Я просто призываю помнить об их обманчивой сущности )))\n",
    "\n",
    "p.s. по факту приёма проекта я пришлю тебе набор книг в котором среди прочих будут и книги по визуализации.</div>"
   ]
  },
  {
   "attachments": {
    "image.png": {
     "image/png": "[encoded data removed]"
    }
   },
   "cell_type": "markdown",
   "id": "6cd12377",
   "metadata": {},
   "source": [
    "<div class=\"alert alert-warning\">\n",
    "<b>Комментарий 👉</b>\n",
    "    \n",
    "![image.png](attachment:image.png)    \n",
    "\n",
    "Попробуй передвинуть \"легенду\" вправо, **за** график, чтобы она его не перекрывала. Статья на тему: https://devpractice.ru/matplotlib-lesson-3-1-work-with-legend/\n",
    "</div>"
   ]
  },
  {
   "cell_type": "code",
   "execution_count": null,
   "id": "fac4d215-c1df-4e43-aa2f-5bc404ceba42",
   "metadata": {},
   "outputs": [],
   "source": [
    "df_market.info()\n",
    "print(df_market[df_market['Акционные_покупки'] >= 0.6]['Ошибка_сервиса'].count())\n",
    "\n",
    "display(df_market_money[df_market_money['Выручка'] > 20000])\n",
    "df_market_money.loc[df_market_money['Выручка'] > 20000, 'Выручка'] = df_market_money['Выручка'].median()\n",
    "plot_sub_plot_hist_boxplot(df_market_money.select_dtypes(include=np.number), 'df_market_money')"
   ]
  },
  {
   "cell_type": "markdown",
   "id": "13cb6537",
   "metadata": {},
   "source": [
    "<div class=\"alert alert-success\">\n",
    "<b>ОТЛИЧНО! 👍</b>\n",
    "\n",
    "Отлично, выброс обработан!</div>"
   ]
  },
  {
   "cell_type": "markdown",
   "id": "0ce6ae55-3441-4610-b857-e989f3559f31",
   "metadata": {},
   "source": [
    "Распределения количественных признаков показали распределения, близкие к нормальному за исключением:\n",
    "- df_market - Акционные покупки\n",
    "- df_market_money - Выручка\n",
    "\n",
    "Для этих двух признаков имеют место выбросы, которые искажают форму гистограммы.\n",
    "Проанализируем эти выбросы:\n",
    "\n",
    "#### df_market - Акционные покупки\n",
    "Таких выбросов (со значением параметра 'Акционные покупки' >= 0.6) 168 и это более 10 % от общего количества. Отбрасывать их неправильно и надо их оставить и учитывать это при построении моделей.\n",
    "\n",
    "#### df_market_money - Выручка\n",
    "Такой выброс только один со значением 106862.2 что сильно превышает медиану и среднее для этой выборки - я предлагаю его не отбросить и заменить медианой для данной выборки\n",
    "\n",
    "Pie диаграммы для категориальных признаков представлены выше. \n",
    "В качестве особых признаков можно указать, что данные между периодами распределены равными частями.\n",
    "Отбор клиентов с покупательской активностью не менее трёх месяцев я произведу после объединения таблиц в следующей секции."
   ]
  },
  {
   "cell_type": "markdown",
   "id": "0c8d14df",
   "metadata": {},
   "source": [
    "<div class=\"alert alert-warning\">\n",
    "<b>Комментарий 👉</b>\n",
    "\n",
    "**Распределения количественных признаков показали распределения, близкие к нормальному** - нормальность распределения данных проверяешь \"на глаз\", но это несколько некорректно - есть вероятность ошибки (понятно что не в нашем случае - тут всё ясно ... но вот в случае распределения похожего на Гауссиану). Что надо сделать чтобы строго подтвердить или опровергнуть нормальность распределения случайной величины?\n",
    "\n",
    "Вот полезная статья на эту тему: https://questu.ru/articles/197465/?ysclid=lqne65uoj8436661539\n",
    "</div>"
   ]
  },
  {
   "cell_type": "code",
   "execution_count": null,
   "id": "a7afe94f",
   "metadata": {},
   "outputs": [],
   "source": []
  },
  {
   "cell_type": "markdown",
   "id": "dbc93451",
   "metadata": {},
   "source": [
    "<div class=\"alert alert-success\">\n",
    "<b>ОТЛИЧНО! 👍</b>\n",
    "\n",
    "Данные загружены, отлично.\n",
    "\n",
    "Хорошо, что применяешь метод .head()/.sample() таким образом в память не будет загружен весь датасет, объем которого может быть огромным.\n",
    "\n",
    "Методы .info, .describe, .value_counts(), .unique() как правило часто встречаются и обязательны к применению в задачах по исследованию данных, ведь с их помощью можно получить первые инсайты. \n",
    "\n",
    "Итак, мы провели предварительный анализ данных, проверили данные на наличие пропусков и затем обработали их (аргументированно заполнили / удалили / оставили как есть). Теперь можно приступать собственно к анализу данных и ответам на вопросы проекта.\n",
    "\n",
    "\n",
    "</div>"
   ]
  },
  {
   "cell_type": "markdown",
   "id": "72ef7635-fa62-4fa0-89a2-9f07ac3e584d",
   "metadata": {},
   "source": [
    "## 5. Объединение таблиц"
   ]
  },
  {
   "cell_type": "code",
   "execution_count": null,
   "id": "057fe612-0e55-4358-922d-7e1396ccf4b7",
   "metadata": {},
   "outputs": [],
   "source": [
    "df_market_money_piv = df_market_money.pivot(index='id', columns='Период', values='Выручка')\n",
    "df_market_money_piv.columns = ['Выручка_предыдущий_месяц', 'Выручка_препредыдущий_месяц', 'Выручка_текущий_месяц']\n",
    "df_market_money_piv.reset_index(inplace=True)\n",
    "df_market_all  = df_market.merge(df_market_money_piv, left_on='id', right_on='id', how='left')\n",
    "\n",
    "\n",
    "df_market_time_piv = df_market_time.pivot(index='id', columns='Период', values='минут')\n",
    "df_market_time_piv.columns = ['Минут_предыдущий_месяц', 'Минут_текущий_месяц']\n",
    "df_market_time_piv.reset_index(inplace=True)\n",
    "df_market_all  = df_market_all.merge(df_market_time_piv, left_on='id', right_on='id', how='left')\n",
    "display(df_market_all.head())\n",
    "display(df_market_all.isna().mean())\n",
    "\n",
    "#df_market_all[df_market_all['id'] == 215348]\n",
    "\n",
    "df_market_all_active = df_market_all[(df_market_all['Выручка_препредыдущий_месяц'] > 0) & (df_market_all['Выручка_предыдущий_месяц'] > 0) & (df_market_all['Выручка_текущий_месяц'] > 0)]\n",
    "display(df_market_all.describe())\n",
    "display(df_market_all_active.describe())\n",
    "df_market_all_not_active = df_market_all[(df_market_all['Выручка_препредыдущий_месяц'] == 0) | (df_market_all['Выручка_предыдущий_месяц'] == 0) | (df_market_all['Выручка_текущий_месяц'] == 0)]\n",
    "display(df_market_all_not_active)\n"
   ]
  },
  {
   "attachments": {
    "image.png": {
     "image/png": "[encoded data removed]"
    }
   },
   "cell_type": "markdown",
   "id": "f080c254",
   "metadata": {},
   "source": [
    "<div class=\"alert alert-success\">\n",
    "<b>ОТЛИЧНО! 👍</b>\n",
    "\n",
    "Есть, отлично! Из \"длинного\" датафрейма сделали \"широкий\". Ровно то, что и требуется:\n",
    "    \n",
    "</div>\n",
    "\n",
    "![image.png](attachment:image.png)"
   ]
  },
  {
   "attachments": {
    "image.png": {
     "image/png": "[encoded data removed]"
    }
   },
   "cell_type": "markdown",
   "id": "79e0fbf3",
   "metadata": {},
   "source": [
    "<div class=\"alert alert-success\">\n",
    "<b>ОТЛИЧНО! 👍</b>\n",
    "\n",
    "Супер! Здесь молодец, НЕ УПУСКАЕШЬ требование брифа в части обработки покупателей НЕ имеющих полной покупательской истории в крайние 3 месяца:\n",
    "    \n",
    "</div>\n",
    "\n",
    "![image.png](attachment:image.png)"
   ]
  },
  {
   "cell_type": "markdown",
   "id": "377554b6-5f58-4335-991e-562fda968c40",
   "metadata": {},
   "source": [
    "Таблицы df_market, df_market_money, df_market_time объединены в таблицу df_market_all по общей колонке **id**, при этом значения из колонки **Период** из двух последних датафреймов развернуты в отдельные колонки, в которых помещено значение из колонки Выручка или минуты.\n",
    "\n",
    "- Выручка_предыдущий_месяц\n",
    "- Выручка_препредыдущий_месяц\n",
    "- Выручка_текущий_месяц\n",
    "- Минут_предыдущий_месяц\n",
    "- Минут_текущий_месяц\n",
    "\n",
    "После операции merge была проведена проверка на пропуски и они не обнаружены.\n",
    "\n",
    "Кроме того, проведена оценка выборки тех клиентов, которые не совершали покупок три последних месяца подряд - это df_market_all_not_active - и он имеет три строки. В связи с этим так как общее число клиентов 1300 то принято решение отбросить этих трех клиентов и далее работать с датафреймом df_market_all_active, который содержит только тех клиентов, которые делали покупки в последних трех месяцах."
   ]
  },
  {
   "cell_type": "markdown",
   "id": "7fb3d133",
   "metadata": {},
   "source": [
    "<div class=\"alert alert-warning\">\n",
    "<b>Комментарий 👉</b>\n",
    "\n",
    "В случае объединения/слияния датафреймов рекомендую тебе смотреть на размерости датафреймов ДО слияния и ПОСЛЕ него. В подобных операциях часто ошибки бывают.\n",
    "</div>"
   ]
  },
  {
   "cell_type": "markdown",
   "id": "4530f9e7-ffa9-40d0-8a76-9a2825db0aff",
   "metadata": {},
   "source": [
    "## 6. Корреляционный анализ"
   ]
  },
  {
   "cell_type": "code",
   "execution_count": null,
   "id": "926f3d0d-b5d7-406c-bd43-4d2d569859c8",
   "metadata": {},
   "outputs": [],
   "source": [
    "interval_cols = list(df_market_all_active.select_dtypes(include=np.number).columns.difference(['id']))\n",
    "print(interval_cols)\n",
    "display(df_market_all_active[interval_cols].nunique())\n",
    "display(df_market_all_active['Маркет_актив_тек_мес'].value_counts())\n",
    "display(df_market_all_active['Средний_просмотр_категорий_за_визит'].value_counts())"
   ]
  },
  {
   "cell_type": "code",
   "execution_count": null,
   "id": "92663b90-be71-4d6c-80be-9f166789a2bc",
   "metadata": {},
   "outputs": [],
   "source": [
    "interval_cols = df_market_all_active.select_dtypes(include=np.number).columns.difference(['id'])\n",
    "\n",
    "#phik_overview = phik_matrix(df_market_all_active[df_market_all_active.columns.difference(['id']).difference(['Покупательская активность'])], interval_cols=list(interval_cols))\n",
    "phik_overview = phik_matrix(df_market_all_active[df_market_all_active.columns.difference(['id'])], interval_cols=list(interval_cols))\n",
    "\n",
    "display(phik_overview)\n",
    "plot_correlation_matrix(\n",
    "    phik_overview.values,\n",
    "    x_labels=phik_overview.columns,\n",
    "    y_labels=phik_overview.index,\n",
    "    vmin=0, vmax=1, color_map='Greens',\n",
    "    title=r'correlation $\\phi_K$',\n",
    "    fontsize_factor=1.2,\n",
    "    figsize=(16, 10)\n",
    ")\n",
    "\n",
    "sns.pairplot(df_market_all_active[['Выручка_препредыдущий_месяц', 'Выручка_предыдущий_месяц', 'Выручка_текущий_месяц']], height=3.5)\n",
    "plt.show()\n"
   ]
  },
  {
   "cell_type": "markdown",
   "id": "a591c080",
   "metadata": {},
   "source": [
    "<div class=\"alert alert-success\">\n",
    "<b>ОТЛИЧНО! 👍</b>\n",
    "\n",
    "Смотришь скоррелированность признаков - отлично! Об этом чуть ниже подробней напишу....\n",
    "\n",
    "---\n",
    "Phi_K correlation представляет собой инструмент для вычисления и визуализации корреляции между категориальными и количественными переменными. Она может быть полезной в анализе данных перед построением моделей машинного обучения, так как позволяет обнаружить скрытые взаимосвязи между переменными, которые могли бы остаться незамеченными при обычных методах корреляционного анализа.\n",
    "Преимущества использования **phik**:\n",
    "\n",
    "1. **Учет категориальных переменных**: Традиционные методы вычисления корреляции, такие как коэффициент корреляции Пирсона, применяются только к количественным переменным. phik позволяет вычислять корреляцию между категориальными и количественными переменными, что делает его мощным инструментом для анализа разнообразных типов данных.\n",
    "\n",
    "2. **Обнаружение нелинейных зависимостей**: phik способен обнаруживать нелинейные связи между переменными, которые могли бы быть упущены традиционными методами. Это особенно важно в анализе данных, где зависимости могут быть сложными и нелинейными (что может влиять на твой выбор признаков для моделей МО).\n",
    "\n",
    "3. **Подходит для больших наборов данных**: phik обладает хорошей масштабируемостью, что позволяет использовать его для анализа больших наборов данных без серьезного снижения производительности.\n",
    "\n",
    "4. **Визуализация результатов**: Библиотека предоставляет инструменты для визуализации матрицы корреляции между переменными, что помогает лучше понимать зависимости в данных.\n",
    "\n",
    "Вот пример кода, как использовать phik для вычисления корреляции:\n",
    "    \n",
    "    import phik\n",
    "    import pandas as pd\n",
    "\n",
    "    # Загрузка данных\n",
    "    data = pd.read_csv('data.csv')\n",
    "\n",
    "    # Вычисление матрицы корреляции с использованием phik\n",
    "    corr_matrix = data.phik_matrix()\n",
    "\n",
    "    # Визуализация матрицы корреляции\n",
    "    import seaborn as sns\n",
    "    import matplotlib.pyplot as plt\n",
    "\n",
    "    plt.figure(figsize=(10, 8))\n",
    "    sns.heatmap(corr_matrix, annot=True, cmap='coolwarm')\n",
    "    plt.title('Phi_K Correlation Matrix')\n",
    "    plt.show()\n",
    "\n",
    "p.s. у этой библиотеки есть ограничение с которым я например сталкивался: когда в даных есть столбцы с очень большим количеством уникальных значений, то phik может \"упасть\" с сообщением об ошибке (суть которого в том, что не хватает памяти для обработки такого количества \"уников\"). ПРи этом на компьютере у меня 32 Гб памяти и большая часть её не занята. Я подозреваю что это некое внутреннее ограничение библиотеки.\n",
    "</div>"
   ]
  },
  {
   "cell_type": "code",
   "execution_count": null,
   "id": "9757cf0d",
   "metadata": {},
   "outputs": [],
   "source": []
  },
  {
   "cell_type": "markdown",
   "id": "fd96b096",
   "metadata": {},
   "source": [
    "<div class=\"alert alert-warning\">\n",
    "<b>Комментарий 👉</b>\n",
    "\n",
    "Обрати внимание на ячейку, которую я сейчас комментирую – видишь слайдер («бегунок») снизу? Он показывает, что код не помещается в видимые границы ячейки (и чтобы его полностью «прочитать» - нужно использовать мышь. Код очень длинный.\n",
    "\n",
    "Код очень длинный (а PEP8 определяет длину строки в 79 символов) - попробуй длинные - переносить, а между строками использовать пустые строки. Ну и желательно код комментировать, хотя бы коротко (что делаешь и каков будет результат - так твоим коллегам будет проще за твоей мыслью следить). Этот комментарий может относиться к нескольким ячейкам этой «тетрадки».\n",
    "\n",
    "Хороший разработчик форматирует и комментирует свой код, тогда другие разработчики быстрее разберутся в программе. Это важно, ведь код чаще читают, чем пишут: напишет один, а прочтут — сотни или тысячи (если код хороший). \n",
    "«Пишите код так, как будто сопровождать его будет склонный к насилию психопат, который знает, где вы живете.» ©1991, John F. Woods, разработчик\n",
    "\n",
    "---\n",
    "Давай обсудим стиль кодирования (программирования)? Смотри что сейчас происходит в этой ячейке (**не всё применимо к твоему коду здесь, но я попытался собрать и представить здесь самые ценные советы из PEP8 по организации кода**) и что можно сделать по-другому, чуть лучше:\n",
    "\n",
    "1. Комментарии к строке кода: они должны располагаться выше соответствующей строки кода (выше строки к которой относятся) и должны быть от этой строки отделены пустой строкой. Если же они расположены справа, то для того чтобы увидеть, что там написано приходится пользоваться скроллиногом. Надо добиться того, чтобы ячейку не приходилось прокручивать, т.к. это не добавляет удобства ни при отладке кода, ни для понимания что в этой ячейке \"происходит\". Как альтернатива – комментарий может размещаться выше, в Markdown-ячейке.\n",
    "    \n",
    "2. Бывает, что встречаются очень длинные строки кода, которые также уходят за правый край ячейки. Такие строки должны разбиваться разделителем (вот таким: \\\\). Это best practice, требование PEP8, а именно: PEP8 определяет длину строки в 79 символов.\n",
    "    \n",
    "3. **В идеале**: одна ячейка - одна строка кода. Почему так? Да как минимум из соображения понятности: будучи выполненной, под этой ячейкой должен отображаться результат трансформации данных. Ты или твой коллега должны видеть, как поменялись данные после выполнения ячейки с кодом. Следующая ячейка - ещё строка кода и соответствующим output'ом. Будешь делать так - коллеги будут тебе благодарны за то, что легко будут следовать за твоей мыслью. И отладку это упрощает. Ну и как противоположность - можно в одну ячейку \"положить\" результат 3-х последовательных groupby + ещё чего-нибудь. Разобраться с ходу \"что происходит\" будет очень трудно, придётся всё равно код разносить по ячейкам и смотреть последовательно что происходит. Но ведь логично это делать удобным способом сразу, ведь так?\n",
    "    \n",
    "4. Неиспользуемые, закомментированные строки выше вынеси в другую ячейку, отдельную, выше. Можешь для удобства своего прокомментировать (на память). И оставь там это код, так, чтобы он не смешивался с рабочим кодом.\n",
    "\n",
    "p.s. возможно и в следующих ячейках твоей «тетрадки» будет код, который просмотреть можно только используя мышку, но я этот момент более комментировать не буду – просто обращай внимание на слайдер под ячейкой с кодом.\n",
    "</div>"
   ]
  },
  {
   "cell_type": "markdown",
   "id": "e6e4ce3e-648d-41ed-a9d7-c5dcc5403a91",
   "metadata": {},
   "source": [
    "Корреляционый анализ с помощью фик матрицы показал, что:\n",
    "- нет сильных корреляций ~ 1 между целевым признаком (Покупательская активность) и остальными признаками\n",
    "- есть достаточно сильная кореляция - 0.83 - между признаками Выручка_текущий_месяц и Выручка_предыдущий_месяц\n",
    "\n",
    "Я не вижу необходимости убирать какие либо признаки на основании этого анализа."
   ]
  },
  {
   "cell_type": "code",
   "execution_count": null,
   "id": "74061568",
   "metadata": {},
   "outputs": [],
   "source": []
  },
  {
   "cell_type": "markdown",
   "id": "7d77c6a1",
   "metadata": {},
   "source": [
    "<div class=\"alert alert-warning\">\n",
    "<b>Комментарий 👉</b>\n",
    "\n",
    "В задаче классификации, когда в данных несколько классов (как у нас: \"активность снизилась\" и \"активность преждняя\"), рекомендовал бы построить хитмап отдельно для каждого класса. Если это делать на данных одновременно для 2х (и более классов - такие могут быть ситуации), то \"картинка может быть смазанной\"! Очень легко НЕ УВИДЕТЬ взаимосвязи (*только не надо трактовать эти взаимосвязи как **зависимости, которые объясняют** причинно-следственную связь между переменными*) присущие тому или иному классу.\n",
    "</div>"
   ]
  },
  {
   "cell_type": "code",
   "execution_count": null,
   "id": "2d84d4f5",
   "metadata": {},
   "outputs": [],
   "source": []
  },
  {
   "cell_type": "markdown",
   "id": "662fd217",
   "metadata": {},
   "source": [
    "<div class=\"alert alert-warning\">\n",
    "<b>Комментарий 👉</b>\n",
    "\n",
    "Несколько моментов \"на будущее\" (сейчас забегаю чуть вперед, но будущем это будет важно) которые я хотел озвучить перед переходом к собственно исследованию (некоторые из этих моментов в твоем проекте реализованы):\n",
    "    \n",
    "- имеет смысл критично посмотреть на данные с точки зрения наличия пропусков в признаках (вопрос: все ли ml-модели \"любят\" пропуски?) и обработать или удалить их \n",
    "    \n",
    "- имеет смысл явно обозначить какую задачу мы будем решать: с учителем / без учителя, классификации / регрессии ...\n",
    "    \n",
    "- в моделях бинарной классификации (если бы это был бы наш случай!) имеет смысл смотреть на баланс классов. Два взгляда (с разных сторон) на эту проблему тут: https://alexanderdyakonov.wordpress.com/2021/05/27/imbalance/ и https://habr.com/ru/post/349078/\n",
    "    \n",
    "- имеет смысл смотреть на корреляцию признаков. При высокой их степени коррелированности возникает проблема  мультиколлиниарность признаков. Проблема \"мультиколлинеарности\" это и про переобучение модели и про её интерпретируемость и про сложность модели (содержание в модели избыточного количества переменных). В чем негативный эффект сложной модели? Вот в чем: усложняется интерпретация параметров, оценки параметров ненадежны – получаются большие стандартные ошибки, которые меняются с изменением объема наблюдений, что делает модель регрессии непригодной для прогнозирования.\n",
    "\n",
    "<br>\n",
    "<br>\n",
    "<details>\n",
    "<summary style=\"color: blue; font-size: 18px; font-weight: bold;\">▶ <u>Подробнее ...</u></summary>\n",
    "\n",
    "Вот несколько причин, почему проблема мультиколлинеарности (МК) важна:\n",
    "\n",
    "1. Неоднозначность коэффициентов: МК делает оценку коэффициентов модели неустойчивой. Когда существует сильная корреляция между признаками, модель становится неспособной разделить влияние каждого признака на целевую переменную. Это может привести к неоднозначным и неправильным оценкам коэффициентов, что затрудняет интерпретацию важности каждого признака. Согласись - это важно, чтобы результат, который выдает модель можно было бы понять и объяснить с точки зрения предметной области. В случае включения в модель высокоскоррелированных признаков - может случиться так, что коэффициенты (да, проблема присуща моделям линейным ... регрессия среди них!) могут менять знаки и попытка объяснения предметной области с помощью этих коэффициентов будет противоречить здравому смыслу.\n",
    "\n",
    "2. Плохая обобщающая способность: МК может снизить способность модели обобщаться на новые данные. Когда сильно коррелированные признаки присутствуют в модели, модель может стать \"перегенерированной\" и склонной к переобучению на обучающих данных. В результате модель может показывать хорошую производительность на обучающих данных, но плохо обобщаться на новые данные.\n",
    "\n",
    "3. Ухудшение точности и устойчивости модели: МК может привести к численным проблемам при решении линейных уравнений, используемых для оценки коэффициентов модели. Это может привести к нестабильности и неточности оценок. Кроме того, небольшие изменения в данных могут привести к большим изменениям в оценках коэффициентов модели, что делает модель неустойчивой.\n",
    "\n",
    "4. Избыточность информации: Когда признаки сильно коррелированы, они предоставляют практически одинаковую информацию о целевой переменной. Такая избыточность может привести к неэффективности модели и увеличению сложности модели без значительного улучшения производительности.\n",
    "\n",
    "В целом, МК может иметь отрицательное влияние на производительность, стабильность, интерпретируемость и обобщающую способность.\n",
    "    \n",
    "---\n",
    "Для деревянных моделей и моделей градиентного бустинга проблема МК  не является такой критической, как для линейных моделей. Вот несколько причин:\n",
    "\n",
    "1. Нелинейность: Деревянные модели и модели градиентного бустинга являются нелинейными моделями. Они способны обрабатывать сложные взаимодействия между признаками и целевой переменной. В отличие от линейных моделей, они могут более гибко адаптироваться к наличию мультиколлинеарности в данных.\n",
    "\n",
    "2. Рекурсивное разбиение: Деревья принятия решений в деревянных моделях и моделях градиентного бустинга используют рекурсивное разбиение для разделения данных на более чистые группы. Это означает, что деревья могут независимо выбирать разные признаки для разделения, даже если они сильно коррелированы. Таким образом, деревья могут игнорировать мультиколлинеарность и использовать другие признаки для принятия решений.\n",
    "\n",
    "3. Ансамбль деревьев: Модели градиентного бустинга строятся на основе ансамбля слабых деревьев решений. Каждое дерево добавляется постепенно для уменьшения ошибки предыдущих деревьев. Это позволяет модели градиентного бустинга восстанавливать ошибки, вызванные мультиколлинеарностью, поэтапно улучшая прогнозы.\n",
    "\n",
    "Хотя мультиколлинеарность не является проблемой в деревянных моделях и моделях градиентного бустинга в той же степени, что и в линейных моделях, она все еще может оказывать влияние на производительность и интерпретируемость модели. Сильно коррелированные признаки могут вносить избыточность в модель и увеличивать сложность, не принося значительного улучшения в прогнозах. Поэтому, хотя деревья могут быть более устойчивыми к мультиколлинеарности, все же рекомендуется выполнять анализ корреляции признаков и, при необходимости, применять методы снижения размерности или регуляризации для улучшения модели.\n",
    "    \n",
    "Вот классная статья. Простым языком, на примере показана проблема. А также, что важно - разобраны варианты как её (проблему) победить. Статья: https://habr.com/ru/company/akbarsdigital/blog/592493/ \n",
    "    \n",
    "</details>\n",
    "<br>\n",
    "<br>    \n",
    "</div>"
   ]
  },
  {
   "cell_type": "markdown",
   "id": "06b50585-c414-4e40-a1d3-d046a2eb1496",
   "metadata": {},
   "source": [
    "## 7. Использование пайплайнов"
   ]
  },
  {
   "cell_type": "markdown",
   "id": "52772f30-3eab-4268-9b61-3e5671fd49ab",
   "metadata": {},
   "source": [
    "### 7.1 Использование ColumnTransformer для подготовки данных "
   ]
  },
  {
   "cell_type": "code",
   "execution_count": null,
   "id": "443cd730-1392-49be-a994-4a34bfc58b11",
   "metadata": {},
   "outputs": [],
   "source": [
    "df_market_all_active['Покупательская активность'].value_counts()"
   ]
  },
  {
   "cell_type": "code",
   "execution_count": null,
   "id": "e4fc2dcc-ce4b-4e0e-8176-0f257b0b33df",
   "metadata": {},
   "outputs": [],
   "source": [
    "X_train, X_test, y_train, y_test = train_test_split(\n",
    "    df_market_all_active.drop(['Покупательская активность','id'], axis=1),\n",
    "    df_market_all_active['Покупательская активность'],\n",
    "    test_size = TEST_SIZE, \n",
    "    random_state = RANDOM_STATE,\n",
    "    stratify = df_market_all_active['Покупательская активность'])\n",
    "\n",
    "ohe_columns = list(X_train.select_dtypes(exclude=np.number))\n",
    "num_columns = list(X_train.select_dtypes(include=np.number))\n",
    "\n",
    "print(ohe_columns)\n",
    "print(num_columns)\n",
    "\n",
    "ohe_pipe = Pipeline(\n",
    "    [\n",
    "     ('ohe', OneHotEncoder(drop='first', handle_unknown='error', sparse=False))\n",
    "    ]\n",
    "    )\n",
    "\n",
    "data_preprocessor = ColumnTransformer(\n",
    "    [('ohe', ohe_pipe, ohe_columns),\n",
    "     ('num', MinMaxScaler(), num_columns)\n",
    "    ], \n",
    "    remainder='passthrough'\n",
    ")\n",
    "\n"
   ]
  },
  {
   "cell_type": "code",
   "execution_count": null,
   "id": "c751c8a5-6699-4650-b1fd-19717ca679fc",
   "metadata": {},
   "outputs": [],
   "source": []
  },
  {
   "cell_type": "markdown",
   "id": "419a5ca3",
   "metadata": {},
   "source": [
    "<div class=\"alert alert-success\">\n",
    "<b>ОТЛИЧНО! 👍</b>\n",
    "\n",
    "1. Здесь хорошо, происходит фиксация random_state. Воспроизводимость результатов разбиения выборки на обучающую (тренировочную) / тестовую мы обеспечили, значит при всех последующих запусках нашего кода подвыборки будут идентичными.\n",
    "    \n",
    "2. Доли размеров train/test 3:1 - хорошо.\n",
    "\n",
    "3. Молодец что используешь параметр stratify. Использование stratify позволит сохранить баланс меток классов 1/0 (\"снизится\"/\"не снизится\") в 2х выборках (этот момент важен **особенно** в случае сильного дисбаланса классов в данных). Но конечно stratify это \"не про\" решение проблемы с \"выравниванием\" количества строк (с определенным классом) именно в данных.\n",
    "</div>"
   ]
  },
  {
   "cell_type": "markdown",
   "id": "5921c013",
   "metadata": {},
   "source": [
    "<div class=\"alert alert-warning\">\n",
    "<b>Комментарий 👉</b>\n",
    "\n",
    "Я бы рекомендовал после разбиения данных на выборки посмотреть на их **размеры и размерности**. Метод shape для этого - идеальный помощник. \"Цифры\" по выборкам покажут верно ли мы произвели \"разделение\" данных.\n",
    "\n",
    "p.s. так (**псевдокод**): X_train.shape[0] – «покажет» количество строк в тренировочной выборке, а X_train.shape[1] - количество столбцов в ней же. Ну а X_train.shape – выведет размерность train'а в виде кортежа с 2мя значениями (первое число – количество строк, второе – столбцов).</div>"
   ]
  },
  {
   "cell_type": "markdown",
   "id": "7661d90a",
   "metadata": {},
   "source": [
    "<div class=\"alert alert-warning\">\n",
    "<b>Комментарий 👉</b>\n",
    "\n",
    "Не согласен с кодированием 'Тип сервиса' OHE ... не порядковый ли это признак? На мой взгляд для признака \"тип_сервиса\" следовало бы использовать OrdinalEncoder.\n",
    "    \n",
    "OrdinalEncoder:\n",
    "\n",
    "* Используется, когда категориальные переменные обладают порядком или рангом.\n",
    "* Присваивает каждой уникальной категории целочисленное значение в зависимости от её порядка.\n",
    "* Подходит, когда существует логический порядок между категориями, например, \"низкий\", \"средний\", \"высокий\".\n",
    "\n",
    "</div>"
   ]
  },
  {
   "attachments": {
    "image.png": {
     "image/png": "[encoded data removed]"
    }
   },
   "cell_type": "markdown",
   "id": "ca03b853",
   "metadata": {},
   "source": [
    "<div class=\"alert alert-danger\">\n",
    "<b>Необходимо исправить ❌</b>\n",
    "\n",
    "![image.png](attachment:image.png)    \n",
    "    \n",
    "Стоит настроить работу энкодера OneHotEncoder на работу с неизвестными значениями признаков - сейчас энкодер \"при встрече с неизвестной категорией\" (это может случиться в проде) - будет выбрасывать ошибку. Для непрерывности процесса моделирования можно настроить параметр handle_unknown='ignore', чтобы новые, ранее неизвестные значения игнорировались и не включались в итоговую матрицу.\n",
    "</div>"
   ]
  },
  {
   "cell_type": "markdown",
   "id": "54def5d9-bce0-4538-a09a-490ddb07bde3",
   "metadata": {},
   "source": [
    "Создан объект типа ColumnTransformer для подготовки данных. Использовались пайплайны  ohe_pipe для категориальных признаков и 'num'для непрерывных. SimpleImputer не использовался так как до этого уже проводилась проверка на наличие пропусков."
   ]
  },
  {
   "cell_type": "markdown",
   "id": "edefd5ca",
   "metadata": {},
   "source": [
    "<div class=\"alert alert-success\">\n",
    "<b>ОТЛИЧНО! 👍</b>\n",
    "\n",
    "Использование трансформеров и пайплайнов - СУПЕР!\n",
    "    \n",
    "---\n",
    "Преимущества использования трансформеров:\n",
    "\n",
    "1. **Гибкость и модульность**: Трансформеры позволяют разбить сложные операции по предобработке данных на более мелкие и легко управляемые компоненты. Это делает код более читаемым и модульным.\n",
    "\n",
    "2. **Переиспользование**: Трансформеры могут быть повторно использованы на разных этапах анализа данных и построения моделей. Например, ты можешь создать трансформер для нормализации данных и использовать его как в обучении модели, так и на этапе инференса.\n",
    "\n",
    "3. **Работа с разными типами данных**: Трансформеры могут обрабатывать различные типы данных, включая текст, изображения и числовые значения. Это позволяет тебе создавать единые интерфейсы для предобработки разнообразных данных.\n",
    "\n",
    "Преимущества использования пайплайнов:\n",
    "\n",
    "1. **Структурированность**: Пайплайны помогают организовать последовательность шагов обработки данных, начиная с загрузки и заканчивая подготовкой к обучению модели. Это обеспечивает структурированность и позволяет легко вносить изменения.\n",
    "\n",
    "2. **Поддержание кода**: Пайплайны сокращают вероятность ошибок и упрощают поддержание кода. Отслеживание последовательности операций делает процесс отладки и оптимизации более прозрачным.\n",
    "\n",
    "3. **Масштабируемость**: Пайплайны могут быть легко расширены новыми этапами обработки данных. Это позволяет добавлять новые операции без переписывания всего кода.\n",
    "\n",
    "Объединение трансформеров и пайплайнов позволяет создавать чистые, структурированные и гибкие рабочие процессы для подготовки данных. Например, ты можешь создать трансформеры для преобразования текстовых данных и числовых значений, а затем построить пайплайн, который последовательно применяет эти трансформеры и завершается обучением модели. Это существенно упростит управление и анализ данных перед обучением моделей машинного обучения.\n",
    "\n",
    "Несколько ссылок, которые позволят погрузиться в тему:\n",
    "\n",
    "- [трансформеры](https://scikit-learn.org/stable/modules/generated/sklearn.compose.ColumnTransformer.html) и [пайплайны](https://scikit-learn.org/stable/modules/generated/sklearn.pipeline.Pipeline.html) для организации предобработки (кодирования, масштабирования) и модели\n",
    "- применение пайплайна [A Basic Introduction to Pipelines in Scikit Learn](https://towardsdatascience.com/a-basic-introduction-to-pipelines-in-scikit-learn-bd4cee34ad95)\n",
    "- большой гайд как можно комбинировать разные этапы предобработки [Pipelines and composite estimators](https://scikit-learn.org/stable/modules/compose.html)\n",
    "- или можно написать свой класс-трансформер [Custom Transformers and Pipelines in Python](https://towardsdatascience.com/custom-transformers-in-python-part-ii-6fe111fc82e4)\n",
    "</div>\n",
    "</div>"
   ]
  },
  {
   "cell_type": "markdown",
   "id": "dfb8217e-f323-4b52-a380-55138bb8d8e4",
   "metadata": {},
   "source": [
    "### 7.2 Обучение четырех моделей: KNeighborsClassifier(), DecisionTreeClassifier(), LogisticRegression() и  SVC()"
   ]
  },
  {
   "cell_type": "code",
   "execution_count": null,
   "id": "e77a0b39-c459-4b97-96f1-ef646873a07d",
   "metadata": {},
   "outputs": [],
   "source": [
    "pipe_final = Pipeline([\n",
    "    ('preprocessor', data_preprocessor),\n",
    "    ('models', DecisionTreeClassifier(random_state=RANDOM_STATE))\n",
    "])\n",
    "\n",
    "param_grid = [\n",
    "    \n",
    "    # словарь для модели DecisionTreeClassifier()\n",
    "    {\n",
    "        'models': [DecisionTreeClassifier(random_state=RANDOM_STATE)],\n",
    "        'models__max_depth': range(2, 6),\n",
    "        'models__max_features': range(2, 6),\n",
    "        'preprocessor__num': [StandardScaler(), MinMaxScaler(), 'passthrough']  \n",
    "    },\n",
    "    \n",
    "    # словарь для модели KNeighborsClassifier() \n",
    "    {\n",
    "        'models': [KNeighborsClassifier()],\n",
    "        'models__n_neighbors': range(5, 6),\n",
    "        'preprocessor__num': [StandardScaler(), MinMaxScaler(), 'passthrough']   \n",
    "    },\n",
    "\n",
    "    # словарь для модели SVC() \n",
    "    {\n",
    "        'models': [SVC(random_state=RANDOM_STATE, kernel='linear')],\n",
    "        'models__degree': range(2, 7),\n",
    "        'preprocessor__num': [StandardScaler(), MinMaxScaler(), 'passthrough']   \n",
    "    },\n",
    "\n",
    "    # словарь для модели LogisticRegression()\n",
    "    {\n",
    "        'models': [LogisticRegression(\n",
    "            random_state=RANDOM_STATE, \n",
    "            solver='liblinear', \n",
    "            penalty='l1'\n",
    "        )],\n",
    "        'models__C': range(2, 7),\n",
    "        'preprocessor__num': [StandardScaler(), MinMaxScaler(), 'passthrough']  \n",
    "    }\n",
    "]\n",
    "custom_scorer = make_scorer(precision_score, greater_is_better=True,  pos_label=\"Снизилась\")\n",
    "\n",
    "grid_search = GridSearchCV(\n",
    "    pipe_final, \n",
    "    param_grid, \n",
    "    cv=5,\n",
    "    scoring=custom_scorer,\n",
    "    n_jobs=-1\n",
    ")\n",
    "grid_search.fit(X_train, y_train)\n",
    "\n",
    "result = pd.DataFrame(grid_search.cv_results_)\n",
    "display(result[\n",
    "    ['rank_test_score', 'param_models', 'mean_test_score','params']\n",
    "].sort_values('rank_test_score')) \n"
   ]
  },
  {
   "cell_type": "code",
   "execution_count": null,
   "id": "5fe25ad7-260c-4435-9a60-5828c897d5b3",
   "metadata": {},
   "outputs": [],
   "source": []
  },
  {
   "cell_type": "markdown",
   "id": "7337e79c",
   "metadata": {},
   "source": [
    "Для анализа работы всех четырех моделей предлагается использовать кастомный скорер, который базируется на метрике precision_score, направлене отпимизации  greater_is_better и pos_label=\"Снизилась\". Это можно сделать потому что:\n",
    "- целевой признак - бинарный и категориальный\n",
    "- нет дисбаланса классов для категориального признака\n",
    "- нам необходимо надежно предсказывать целевой признак \"Снизилась\" и на основании SHAP модели сделать прогноз признаков, которые наиболее влияют на это значение целевого признака\n",
    "\n",
    "Выбраны для обучения четыре модели: KNeighborsClassifier(), DecisionTreeClassifier(), LogisticRegression() и SVC()\n",
    "Для моделей выбраны вариации следующих гиперпараметров:\n",
    "- KNeighborsClassifier:\n",
    "  - n_neighbors: range(5, 6)\n",
    "- DecisionTreeClassifier:\n",
    "  - models__max_depth: range(2, 6)\n",
    "  - models__max_features: range(2, 6)\n",
    "- SVC:\n",
    "  - degree: range(2, 7)\n",
    "- LogisticRegression:\n",
    "  - C: range(2, 7)\n",
    "\n",
    "Для каждой модели скейлер для количественных параметров варьируется как\n",
    "- StandardScaler\n",
    "- MinMaxScaler"
   ]
  },
  {
   "attachments": {
    "image.png": {
     "image/png": "[encoded data removed]"
    }
   },
   "cell_type": "markdown",
   "id": "a35ca6e3",
   "metadata": {},
   "source": [
    "<div class=\"alert alert-success\">\n",
    "<b>ОТЛИЧНО! 👍</b>\n",
    "\n",
    "![image.png](attachment:image.png)    \n",
    "    \n",
    "Есть, ОТЛИЧНО! Вижу обоснование выбора и использования конкретной ml-метрики в твоем проекте!\n",
    "</div>"
   ]
  },
  {
   "cell_type": "code",
   "execution_count": null,
   "id": "d717e456",
   "metadata": {},
   "outputs": [],
   "source": []
  },
  {
   "cell_type": "markdown",
   "id": "bbed2236-69ee-4160-981f-064008505097",
   "metadata": {},
   "source": [
    "### 7.3 Выбор лучшей модели, используя заданную метрику."
   ]
  },
  {
   "cell_type": "code",
   "execution_count": null,
   "id": "c954a457-38a8-4c46-a33c-b3033eaf7963",
   "metadata": {},
   "outputs": [],
   "source": [
    "print('Лучшая модель:\\n\\n', grid_search.best_estimator_)\n",
    "print('Параметры:\\n\\n', grid_search.best_params_)\n",
    "print ('Метрика  make_scorer(precision_score, greater_is_better=True,  pos_label=\"Снизилась\") лучшей модели на тренировочной выборке:', grid_search.best_score_)\n",
    "\n",
    "# проверьте работу модели на тестовой выборке\n",
    "# рассчитайте прогноз на тестовых данных\n",
    "y_test_pred = grid_search.predict(X_test)\n",
    "display(pd.DataFrame(y_test_pred).head())\n",
    "# print(f'Метрика ROC-AUC на тестовой выборке: {roc_auc_score(y_test, y_test_pred)}')"
   ]
  },
  {
   "cell_type": "markdown",
   "id": "74ac467b-2e33-4f80-b069-f6cd133e67da",
   "metadata": {},
   "source": [
    "- Выбрана лучшая модель SVC(degree=2, kernel='linear', random_state=42) c скейлером MinMaxScaler\n",
    "- Метрика  make_scorer(precision_score, greater_is_better=True,  pos_label=\"Снизилась\") лучшей модели на тренировочной выборке: 0.9023529263179165"
   ]
  },
  {
   "cell_type": "markdown",
   "id": "b7e81150",
   "metadata": {},
   "source": [
    "<div class=\"alert alert-success\">\n",
    "<b>ОТЛИЧНО! 👍</b>\n",
    "\n",
    "Раздел - СУПЕР! Пайплайны, транфсофрмеры - современный технологичный способ упаковки кода моделей и подбора гиперпараметров (ГП). Метрика проекта также выбрана и её использование обосновано.\n",
    "</div>"
   ]
  },
  {
   "cell_type": "markdown",
   "id": "c3199ffb-2b90-4314-8417-90280e460944",
   "metadata": {},
   "source": [
    "## 8. Анализ важности признаков"
   ]
  },
  {
   "cell_type": "markdown",
   "id": "b50a3514-c48f-4c2d-8886-7660ffac7f62",
   "metadata": {},
   "source": [
    "### 8.1 Оценка важности признаков для лучшей модели и построение графика важности с помощью метода SHAP"
   ]
  },
  {
   "cell_type": "markdown",
   "id": "39609cb1",
   "metadata": {},
   "source": [
    "<div class=\"alert alert-success\">\n",
    "<b>ОТЛИЧНО! 👍</b>\n",
    "\n",
    "О, shap используешь. СУПЕР. \"В жизни\" редко его встречаю. Обычно feature_importances все оперируют. МОЛОДЕЦ!\n",
    "\n",
    "---\n",
    "Графики SHAP предоставляют визуальное объяснение влияния каждого признака на модель. Вот некоторые ключевые типы графиков SHAP и их интерпретация:\n",
    "\n",
    "1. **Summary Plot (Общий график):**\n",
    "\n",
    "* Главная цель этого графика - показать вклад каждого признака в прогнозы модели.\n",
    "* График показывает каждый признак на оси X, где точка на графике представляет вклад этого признака в прогноз.\n",
    "* Положительные значения указывают, что большее значение этого признака повышает прогноз, отрицательные - понижает.\n",
    "\n",
    "2. **Force Plot (График силы влияния):**\n",
    "\n",
    "* Позволяет увидеть, как каждый признак влияет на конкретный прогноз.\n",
    "* Визуализирует SHAP-значения для каждого признака для определенной точки данных и как они влияют на прогноз.\n",
    "\n",
    "3. **Dependence Plot (График зависимости):**\n",
    "\n",
    "* Показывает взаимосвязь между значением конкретного признака и предсказанием модели.\n",
    "* Позволяет увидеть, как меняется предсказание при изменении значения одного признака, при условии, что остальные признаки фиксированы.\n",
    "\n",
    "4. **Waterfall Plot (График водопада):**\n",
    "\n",
    "*Представляет изменения от базового прогноза до конечного прогноза для каждого наблюдения.\n",
    "\n",
    "* Показывает влияние каждого признака на изменение прогноза относительно базового значения.\n",
    "\n",
    "5. **Interaction Value Plot (График взаимодействия):**\n",
    "\n",
    "* Позволяет увидеть, как взаимодействие между двумя признаками влияет на прогноз.\n",
    "* Он показывает, как изменения значений двух признаков влияют на SHAP-значения.\n",
    "\n",
    "Когда рассматриваешь графики SHAP, обрати внимание на направление и величину влияния каждого признака на прогноз. Положительные значения обычно повышают прогноз, отрицательные - понижают. Важно также анализировать взаимодействия между признаками и их зависимости от целевой переменной.\n",
    "</div>"
   ]
  },
  {
   "cell_type": "code",
   "execution_count": null,
   "id": "5ce34d17-e3e3-4a07-8df6-d35c183291db",
   "metadata": {},
   "outputs": [],
   "source": [
    "X_train_transformed = pipe_final.named_steps['preprocessor'].fit_transform(X_train)\n",
    "X_test_transformed = pipe_final.named_steps['preprocessor'].transform(X_test)\n",
    "\n",
    "nums = pipe_final.named_steps['preprocessor'].transformers_[1][2]\n",
    "cats = list(pipe_final.named_steps['preprocessor'].named_transformers_['ohe'].named_steps['ohe'].get_feature_names(ohe_columns))\n",
    "feature_names = cats + nums\n",
    "print(feature_names)\n",
    "\n",
    "explainer = shap.LinearExplainer(grid_search.best_estimator_.named_steps['models'], X_train_transformed)\n",
    "explainer.feature_names = feature_names\n",
    "shap_values = explainer(X_test_transformed)\n",
    "shap.plots.bar(shap_values, max_display=17) \n",
    "shap.plots.beeswarm(shap_values)"
   ]
  },
  {
   "cell_type": "markdown",
   "id": "171387d8",
   "metadata": {},
   "source": [
    "<div class=\"alert alert-success\">\n",
    "<b>ОТЛИЧНО! 👍</b>\n",
    "\n",
    "Молодец, здесь ты делаешь то, что я редко обычно встречаю в проектах (я про визуализацию признаков, которые модель \"посчитала\" важными. Почему их анализ важен и полезен (несколько причин, почему важно тщательно \"рассматривать\" признаки):\n",
    "\n",
    "1. **Информативность**: Признаки содержат информацию, которая помогает модели делать предсказания. Некоторые признаки могут быть более информативными, чем другие, и могут иметь сильное влияние на результаты модели. Понимание, какие признаки являются наиболее информативными, поможет сосредоточить усилия на сборе и анализе этих признаков, что в конечном итоге может привести к лучшим предсказаниям модели.\n",
    "\n",
    "2. **Устранение шума и избыточности**: Некоторые признаки могут содержать шумовую или избыточную информацию, которая может негативно повлиять на работу модели. Анализ и отсев таких признаков помогут улучшить качество модели, устранить возможное переобучение и улучшить ее способность обобщать данные.\n",
    "\n",
    "3. **Раскрытие взаимосвязей**: Изучение признаков может помочь обнаружить скрытые взаимосвязи и зависимости в данных. Например, два признака могут быть слабо информативными сами по себе, но в комбинации могут образовывать сильный предиктор. Исследование и понимание взаимосвязей между признаками может привести к созданию более сложных, но более мощных моделей.\n",
    "\n",
    "4. **Сокращение размерности**: Некоторые наборы данных могут содержать большое количество признаков, и это может стать проблемой для обучения моделей. Сокращение размерности путем отбора наиболее важных признаков позволяет сократить вычислительную сложность, снизить вероятность переобучения и улучшить интерпретируемость модели.\n",
    "\n",
    "5. **Интерпретируемость**: Понимание важности признаков также помогает интерпретировать результаты модели. Если мы знаем, какие признаки оказывают наибольшее влияние на предсказания, мы можем сделать более осознанные выводы и принимать меры на основе результатов   \n",
    "</div>\n"
   ]
  },
  {
   "cell_type": "markdown",
   "id": "3618e9da-4bc4-4ce4-a20d-68adbfd1d925",
   "metadata": {},
   "source": [
    "### 8.2 Выводы о значимости признаков"
   ]
  },
  {
   "cell_type": "markdown",
   "id": "1af74923-2910-44ba-8567-b9cf2f004346",
   "metadata": {},
   "source": [
    "По результатам постороения SHAP графиков сделаны следующие выводы:\n",
    "#### График Mean(SHAP values)\n",
    "Признаки наиболее влияюшие на целевой - в порядке убывания:\n",
    "   - Страниц_за_визит\n",
    "   - Минут_предыдущий_месяц\n",
    "   - Средний_просмотр_категорий_за_визит\n",
    "   - Акционные_покупки\n",
    "   - Минут_текущий_месяц\n",
    "   - Неоплаченные_продукты_штук_квартал\n",
    "#### График SHAP value Impact on model output\n",
    "Дает более подбробную расшифровку влияния на целевой признак по сравнению с предыдущим графиком\n",
    "- Уберем из рассмотрения признаки: Минут_предыдущий_месяц, Средний_просмотр_категорий_за_визит и Минут_текущий_месяц так как их распределение симметрично относительно вертикальной линии 0 и они одинаково влияют на целевой признак в ту и в другую сторону\n",
    "- По оставшимся признакам можно сделать следующие выводы:\n",
    "   - Страниц_за_визит: Красные значения расположены слева от линии 0 - это означает что этот признак уведичивает вероятность принадлежности к классу 0 то есть к категории \"Прежний уровень\"\n",
    "   - Акционные_покупки: Красные значения расположены справа от линии 0 - это означает что этот признак уведичивает вероятность принадлежности к классу 1 то есть к категории \"Снизилась\"\n",
    "   - Неоплаченные_продукты_штук_квартал: : Красные значения расположены справа от линии 0 - это означает что этот признак уведичивает вероятность принадлежности к классу 1 то есть к категории \"Снизилась\"\n",
    "- Это можно трактовать как:\n",
    "   - При большом количестве просмотренных страниц сайта за визит увеличивается заинтересованность клиента в покупках что приводит к увеличению или по крайней мере не снижению его покупательской активности\n",
    "   - При большом количестве доли акционных покупок снижется интерес клиента к обычным покупкам так как он постоянно ждет появления акций  что приводит к снижению его покупательской активности\n",
    "   - При большом количестве неоплаченных товаров в корзине за последние 3 месяца снижается его покупательская активность так как он не делает покупки при этом\n",
    " \n",
    "#### Как можно использовать эти наблюдения при моделировании и принятии бизнес-решений?\n",
    "Если бизнес-целью считать увеличение покупательной способности клиентов, то можно сформулировать следущие выводы:\n",
    "- уменьшать количество акционных покупок\n",
    "- вкладывать средства в развитие сайта интернет-магазина"
   ]
  },
  {
   "cell_type": "markdown",
   "id": "57becd7a",
   "metadata": {},
   "source": [
    "<div class=\"alert alert-success\">\n",
    "<b>ОТЛИЧНО! 👍</b>\n",
    "\n",
    "Экспертный вывод по графикам! Не просто красивые картинки построены, но описаны те моменты, которые дата-сайентист видит в них!\n",
    "</div>"
   ]
  },
  {
   "cell_type": "markdown",
   "id": "c0d52b8f-c4ed-4757-b6fb-bf1bec0e99d7",
   "metadata": {},
   "source": [
    "## 9. Выполнить сегментацию покупателей и предложить, как увеличить покупательскую активность выбранного сегмента"
   ]
  },
  {
   "cell_type": "markdown",
   "id": "961e3612",
   "metadata": {},
   "source": [
    "<div class=\"alert alert-success\">\n",
    "<b>ОТЛИЧНО! 👍</b>\n",
    "\n",
    "Сразу скажу, что в этом разделе ошибок быть не может ))) Всё потому, что грамотный и вдумчивый исследователь данных (*а ты собственно к этому моменту доказываешь, что визуализацией данных владеешь + видением трендов и закономерностей (на основе этих графиков) обладаешь*) - с почти 100%ой вероятностью **СМОЖЕТ** провести исследование групп покупателей, да и сделать конкретные предложения по работе с этими сегментами для увеличения профита Компании.\n",
    "</div>"
   ]
  },
  {
   "cell_type": "code",
   "execution_count": null,
   "id": "e358af5f-d9c8-4994-ae60-995b6e1c0274",
   "metadata": {},
   "outputs": [],
   "source": [
    "df_market_segmented  = df_market_all_active.merge(df_money, left_on='id', right_on='id', how='left')\n",
    "display(df_market_segmented.head())\n",
    "df_market_segmented['Прибыль'].value_counts()\n",
    "plot_sub_plot_hist_boxplot(df_market_segmented[['Прибыль']], '')\n",
    "X_test_segmented = df_market_segmented.drop(['Покупательская активность','id', 'Прибыль'], axis=1)\n",
    "X_test_segmented_transformed = pipe_final.named_steps['preprocessor'].transform(X_test_segmented)\n",
    "y_segmented_pred = grid_search.predict(X_test_segmented)\n",
    "y_segmented_pred_df = pd.DataFrame(y_segmented_pred)\n",
    "y_segmented_pred_df.columns = ['Покупательская активность_предсказ']\n",
    "y_segmented_pred_df.head()\n",
    "df_market_segmented_with_prib = pd.concat([df_market_segmented, y_segmented_pred_df], axis=1)\n",
    "display(df_market_segmented_with_prib['Покупательская активность_предсказ'].value_counts())\n",
    "df_market_segmented_with_prib.head()\n",
    "df_market_segmented_with_prib_selected = df_market_segmented_with_prib[(df_market_segmented_with_prib['Покупательская активность_предсказ'] == 'Снизилась') & (df_market_segmented_with_prib['Прибыль'] > df_market_segmented_with_prib['Прибыль'].median())]\n",
    "display(df_market_segmented_with_prib_selected.head())\n",
    "df_market_segmented_with_prib_selected.info()\n",
    "df_market_segmented_with_prib_selected.describe()\n",
    "\n",
    "explainer = shap.LinearExplainer(grid_search.best_estimator_.named_steps['models'], X_test_segmented_transformed)\n",
    "explainer.feature_names = feature_names\n",
    "shap_values = explainer(X_test_transformed)\n",
    "shap.plots.beeswarm(shap_values)\n"
   ]
  },
  {
   "cell_type": "markdown",
   "id": "cdc73f06",
   "metadata": {},
   "source": [
    "<div class=\"alert alert-warning\">\n",
    "<b>Комментарий 👉</b>\n",
    "\n",
    "Дмитрий, совет: дели код на ячейки. Когда всё в одной - читать трудно, а также под одной твоей ячейкой может быть 5 моих комментариев )))\n",
    "</div>"
   ]
  },
  {
   "cell_type": "markdown",
   "id": "da730b9d-b5c9-42ef-9f8f-3904c7cee131",
   "metadata": {},
   "source": [
    "Для сегментации выбран сегмент - Группа клиентов с высокой вероятностью снижения покупательской активности и наиболее высокой прибыльностью.\n",
    "В качестве критерия высоко прибыльности были выбраны клиенты, прибыль которых выше медианы распределения в колонке Прибыль и у которых предсказанная по выбранной модели Покупательская активность = Снизилась\n",
    "\n",
    "Для полученного датафрейма я еще раз построил график SHAP value Impact on model output и полученные результаты и выводы совпадают с теми, которые были сделаны для всего датафрейма - единственное отличие для данного датафрейма что у него немного другой порядок high rank items. Повторю ранее сделанные выводы здесь для выбранного сегмента:\n",
    "#### Признаки наиболее влияющие на целевой признак:\n",
    "   - Страниц_за_визит: Красные значения расположены слева от линии 0 - это означает что этот признак уведичивает вероятность принадлежности к классу 0 то есть к категории \"Прежний уровень\"\n",
    "   - Акционные_покупки: Красные значения расположены справа от линии 0 - это означает что этот признак уведичивает вероятность принадлежности к классу 1 то есть к категории \"Снизилась\"\n",
    "   - Неоплаченные_продукты_штук_квартал: : Красные значения расположены справа от линии 0 - это означает что этот признак уведичивает вероятность принадлежности к классу 1 то есть к категории \"Снизилась\"\n",
    "- Это можно трактовать как:\n",
    "   - При большом количестве просмотренных страниц сайта за визит увеличивается заинтересованность клиента в покупках что приводит к увеличению или по крайней мере не снижению его покупательской активности\n",
    "   - При большом количестве доли акционных покупок снижется интерес клиента к обычным покупкам так как он постоянно ждет появления акций  что приводит к снижению его покупательской активности\n",
    "   - При большом количестве неоплаченных товаров в корзине за последние 3 месяца снижается его покупательская активность так как он не делает покупки при этом\n",
    " \n",
    "#### Как можно использовать эти наблюдения при моделировании и принятии бизнес-решений?\n",
    "Если бизнес-целью считать увеличение покупательной способности клиентов, то можно сформулировать следущие выводы:\n",
    "- уменьшать количество акционных покупок\n",
    "- вкладывать средства в развитие сайта интернет-магазина"
   ]
  },
  {
   "cell_type": "markdown",
   "id": "bdb213c3",
   "metadata": {},
   "source": [
    "<div class=\"alert alert-success\">\n",
    "<b>ОТЛИЧНО! 👍</b>\n",
    "\n",
    "Молодец, в разделе выбора сегмента и разработки маркетинговых предложений по увеличению покупательской активности для него я не вижу никаких проблем. Проведен и аналитический и графический анализ, в выводе находится саммари по всем, наиболее значимым поинтам анализа. Что же касается рекомендаций, то конечно здесь написать можно много ... твой анализ (и графики для признаков) дают массу полезной информации о характеристиках 2х групп покупателей. Написать можно много, но для начала достаточно и тех моментов, которые упоминаешь здесь ты. Молодец!\n",
    "</div>"
   ]
  },
  {
   "cell_type": "markdown",
   "id": "3ccb199f-4bf7-422a-bbc4-2ffe966426c5",
   "metadata": {},
   "source": [
    "## 10. Общий вывод"
   ]
  },
  {
   "cell_type": "markdown",
   "id": "5cc977dc-b81e-4d91-8dad-553e33d33773",
   "metadata": {},
   "source": [
    "### 10.1 Описание задачи\n",
    "\n",
    "Интернет-магазин «В один клик» продаёт разные товары: для детей, для дома, мелкую бытовую технику, косметику и даже продукты. Отчёт магазина за прошлый период показал, что активность покупателей начала снижаться. Привлекать новых клиентов уже не так эффективно: о магазине и так знает большая часть целевой аудитории. Возможный выход — удерживать активность постоянных клиентов. Сделать это можно с помощью персонализированных предложений.\n",
    "«В один клик» — современная компания, поэтому её руководство не хочет принимать решения просто так — только на основе анализа данных и бизнес-моделирования. У компании есть небольшой отдел цифровых технологий, и вам предстоит побыть в роли стажёра в этом отделе. \n",
    "Итак, вашему отделу поручили разработать решение, которое позволит персонализировать предложения постоянным клиентам, чтобы увеличить их покупательскую активность.\n",
    "\n",
    "#### Шаги по решению задачи:\n",
    "- Нужно промаркировать уровень финансовой активности постоянных покупателей. В компании принято выделять два уровня активности: «снизилась», если клиент стал покупать меньше товаров, и «прежний уровень».\n",
    "- Нужно собрать данные по клиентам по следующим группам:\n",
    "  * Признаки, которые описывают коммуникацию сотрудников компании с клиентом.\n",
    "  * Признаки, которые описывают продуктовое поведение покупателя. Например, какие товары покупает и как часто\n",
    "  * Признаки, которые описывают покупательское поведение клиента. Например, сколько тратил в магази\n",
    "  * Признаки, которые описывают поведение покупателя на сайте. Например, как много страниц просматривает и сколько времени проводит на сайте\n",
    " \n",
    "#### Требования\n",
    "- Нужно построить модель, которая предскажет вероятность снижения покупательской активности клиента в следующие три месяца.\n",
    "- В исследование нужно включить дополнительные данные финансового департамента о прибыльности клиента: какой доход каждый покупатель приносил компании за последние три месяца\n",
    "- Используя данные модели и данные о прибыльности клиентов, нужно выделить сегменты покупателей и разработать для них персонализированные предложения. едложения.е."
   ]
  },
  {
   "cell_type": "markdown",
   "id": "7c8f15a1-69ba-4c56-bb25-8e9832c69d29",
   "metadata": {},
   "source": [
    "### 10.2 Описание исходных данных и проведённой предобработки\n",
    "\n",
    "Входные данные представлены в виде четырех CSV файлов:\n",
    "\n",
    "- market_file.csv - Таблица, которая содержит данные о поведении покупателя на сайте, о коммуникациях с покупателем и его продуктовом поведении. Она содержит столбцы:\n",
    "  - Покупательская активность — рассчитанный класс покупательской активности (целевой признак): «снизилась» или «прежний уровень».\n",
    "  - Тип сервиса — уровень сервиса, например «премиум» и «стандарт».\n",
    "  - Разрешить сообщать — информация о том, можно ли присылать покупателю дополнительные предложения о товаре. Согласие на это даёт покупатель.\n",
    "  - Маркет_актив_6_мес — среднемесячное значение маркетинговых коммуникаций компании, которое приходилось на покупателя за последние 6 месяцев. Это значение показывает, какое число рассылок, звонков, показов рекламы и прочего приходилось на клиента.\n",
    "  - Маркет_актив_тек_мес — количество маркетинговых коммуникаций в текущем месяце.\n",
    "  - Длительность — значение, которое показывает, сколько дней прошло с момента регистрации покупателя на сайте.\n",
    "  - Акционные_покупкСредний_просмотр_категорий_за_визит — показывает, сколько в среднем категорий покупатель просмотрел за визит в течение последнего месяца.\n",
    "  - Неоплаченные_продукты_штук_квартал — общее число неоплаченных товаров в корзине за последние 3 месяца.\n",
    "  - Ошибка_сервиса — число сбоев, которые коснулись покупателя во время посещения сайта.\n",
    "  - Страниц_за_визит — среднее количество страниц, которые просмотрел покупатель за один визит на сайт за последние 3 месяца.и — среднемесячная доля покупок по акции от общего числа покупок за последние 6 месяцев.\n",
    "  - Популярная_категория — самая популярная категория товаров у покупателя за посл\n",
    "- market_money.csv - Таблица с данными о выручке, которую получает магазин с покупателя, то есть сколько покупатель всего потратил за период взаимодействия с сайтом\n",
    "  - id - номер покупателя в корпоративной базе данных.\n",
    "  - Период — название периода, во время которого зафиксирована выручка. Например, 'текущий_месяц' или 'предыдущий_месяц'.\n",
    "  - Выручка — сумма выручки за пери\n",
    "- market_time.csv - Таблица с данными о времени (в минутах), которое покупатель провёл на сайте в течение периода.\n",
    "  - id — номер покупателя в корпоративной базе данных.\n",
    "  - Период — название периода, во время которого зафиксировано общее время.\n",
    "  - минут — значение времени, проведённого на сайте, в минут\n",
    "- money.csv - Таблица с данными о среднемесячной прибыли покупателя за последние 3 месяца: какую прибыль получает магазин от продаж каждому покупателю.\n",
    "  - id — номер покупателя в корпоративной базе данных.\n",
    "  - Прибыль — значение прибы\n",
    " \n",
    "Для построения модели используются таблицы market_file.csv, market_money.csv, market_time.csv\n",
    "\n",
    "В качестве обработки данных использовались:\n",
    "- проверка на дубликаты по id\n",
    "- проверка на пропуски\n",
    "- проверка на выбросы\n",
    "- исправление грамматических ошибок в кат признаках с целью приведения их к общему виду       лии.ах.ах.од.д.едние 6 месяцев"
   ]
  },
  {
   "cell_type": "markdown",
   "id": "fb27d781-6762-476f-9242-fec72fbeecea",
   "metadata": {},
   "source": [
    "### 10.3 Что было сделано для поиска лучшей модели?\n",
    "\n",
    "Для поиска лучше модели использовался пайплайн c вариацией по четырем моделям:\n",
    "- KNeighborsClassifier()\n",
    "- DecisionTreeClassifier()\n",
    "- LogisticRegression()\n",
    "- SVC()\n",
    "\n",
    "и вариацией определенных гиперпараметров для каждой из моделей а также вариацией по двум типам скейлеров:\n",
    "- StandardScaler()\n",
    "- MinMaxScaler()\n"
   ]
  },
  {
   "cell_type": "markdown",
   "id": "d7712c91-926c-4826-b507-243f184af38b",
   "metadata": {},
   "source": [
    "### 10.4 Указать лучшую модель\n",
    "В результате поиска по метрике  make_scorer(precision_score, greater_is_better=True,  pos_label=\"Снизилась\") была найдена модель  SVC(degree=2, kernel='linear', random_state=42) c скейлером MinMaxScaler. Значение метрики =  0.9023529263179165\n"
   ]
  },
  {
   "cell_type": "markdown",
   "id": "861ffd9d-2c91-4e3b-8afb-515bfbfff0b6",
   "metadata": {},
   "source": [
    "### 10.5 Добавить выводы и дополнительные предложения для выбранного сегмента покупателей\n",
    "\n",
    "Для сегментации выбран сегмент - Группа клиентов с высокой вероятностью снижения покупательской активности и наиболее высокой прибыльностью. В качестве критерия высоко прибыльности были выбраны клиенты, прибыль которых выше медианы распределения в колонке Прибыль и у которых предсказанная по выбранной модели Покупательская активность = Снизилась\n",
    "\n",
    "По результатам исследования для данного сегмента были сделданы выводы и предложения:\n",
    "\n",
    "#### Признаки наиболее влияющие на целевой признак:\n",
    "   - Страниц_за_визит: Красные значения расположены слева от линии 0 - это означает что этот признак уведичивает вероятность принадлежности к классу 0 то есть к категории \"Прежний уровень\"\n",
    "   - Акционные_покупки: Красные значения расположены справа от линии 0 - это означает что этот признак уведичивает вероятность принадлежности к классу 1 то есть к категории \"Снизилась\"\n",
    "   - Неоплаченные_продукты_штук_квартал: : Красные значения расположены справа от линии 0 - это означает что этот признак уведичивает вероятность принадлежности к классу 1 то есть к категории \"Снизилась\"\n",
    "- Это можно трактовать как:\n",
    "   - При большом количестве просмотренных страниц сайта за визит увеличивается заинтересованность клиента в покупках что приводит к увеличению или по крайней мере не снижению его покупательской активности\n",
    "   - При большом количестве доли акционных покупок снижется интерес клиента к обычным покупкам так как он постоянно ждет появления акций  что приводит к снижению его покупательской активности\n",
    "   - При большом количестве неоплаченных товаров в корзине за последние 3 месяца снижается его покупательская активность так как он не делает покупки при этом\n",
    " \n",
    "#### Как можно использовать эти наблюдения при моделировании и принятии бизнес-решений?\n",
    "Если бизнес-целью считать увеличение покупательной способности клиентов, то можно сформулировать следущие выводы:\n",
    "- уменьшать количество акционных покупок\n",
    "- вкладывать средства в развитие сайта интернет-магазина"
   ]
  },
  {
   "cell_type": "markdown",
   "id": "098a2ef7",
   "metadata": {},
   "source": [
    "<div class=\"alert alert-success\">\n",
    "<b>ОТЛИЧНО! 👍</b>\n",
    "\n",
    "Всё отлично, результат достигнут. Требованиям ТЗ твой проект полностью устраивает.\n",
    "\n",
    "Ну и вывод - гуд! И полно и точно описана суть твоей работы. Результат достигнут!</div>"
   ]
  },
  {
   "cell_type": "code",
   "execution_count": null,
   "id": "acaf0f25",
   "metadata": {},
   "outputs": [],
   "source": []
  },
  {
   "cell_type": "markdown",
   "id": "da7cad06",
   "metadata": {},
   "source": [
    "# Результат ревью:\n",
    "\n",
    "Я отмечаю адекватный уровень твоей программистской подготовки. Ты используешь продвинутые концепции языка Python, библиотеки pandas и одной из основных библиотек машинного обучения sckit-learn. Всё это в целом упрощает твой код и одновременно показывает твой уровень владения инструментами анализа данных и machine learning.\n",
    "\n",
    "С комментированием никаких проблем нет. Твоих объяснений достаточно для понимания твоими коллегами хода мыслей. Ссылки из брифа проекта в нужных местах также помогают следовать за развитием событий и дают полную информацию касаемо того, что будет происходить в том или ином разделе проекта.\n",
    "\n",
    "Мне было просто проверять твой проект, потому что он чётко структурирован, с использованием оглавления. \n",
    "\n",
    "Зелёным цветом я отметил и прокомментировал удачные и элегантные решения, на которые ты можешь опираться в будущих проектах.\n",
    "\n",
    "Жёлтым цветом я выделил то, что в следующий раз можно сделать по-другому. Ты можешь учесть эти комментарии при выполнении будущих заданий или доработать проект сейчас.\n",
    "\n",
    "Однако есть принципиальные моменты, которые не позволяют мне принять твой проект в его нынешнем состоянии:\n",
    "\n",
    "<div class=\"alert alert-danger\">\n",
    "<b>Необходимо исправить ❌</b> \n",
    "\n",
    "1. (11) Стоит настроить работу энкодера OneHotEncoder на работу с неизвестными значениями признаков - сейчас энкодер \"при встрече с неизвестной категорией\" (это может случиться в проде) - будет выбрасывать ошибку.\n",
    "</div>\n",
    "\n",
    "Этот момент требует твоего внимания. Комментарий помечен красным цветом.\n",
    "\n",
    "Подводя итог: отличная работа, молодец! Всего один момент к исправлению, и думаю, что он не вызовет у тебя сложностей. Жду доработанную версию проекта на повторное ревью."
   ]
  }
 ],
 "metadata": {
  "ExecuteTimeLog": [
   {
    "duration": 7221,
    "start_time": "2023-12-28T13:29:05.113Z"
   },
   {
    "duration": 2468,
    "start_time": "2023-12-28T13:29:12.336Z"
   },
   {
    "duration": 388,
    "start_time": "2023-12-28T13:29:14.806Z"
   },
   {
    "duration": 189,
    "start_time": "2023-12-28T13:29:15.196Z"
   },
   {
    "duration": 4196,
    "start_time": "2023-12-28T13:29:15.399Z"
   },
   {
    "duration": 346,
    "start_time": "2023-12-28T13:29:19.596Z"
   },
   {
    "duration": 159,
    "start_time": "2023-12-28T13:29:19.943Z"
   },
   {
    "duration": 17,
    "start_time": "2023-12-28T13:29:20.103Z"
   },
   {
    "duration": 5662,
    "start_time": "2023-12-28T13:29:20.121Z"
   },
   {
    "duration": 17,
    "start_time": "2023-12-28T13:29:25.784Z"
   },
   {
    "duration": 82,
    "start_time": "2023-12-28T13:29:25.802Z"
   },
   {
    "duration": 327185,
    "start_time": "2023-12-28T13:29:25.885Z"
   },
   {
    "duration": 31,
    "start_time": "2023-12-28T13:34:53.072Z"
   },
   {
    "duration": 1372,
    "start_time": "2023-12-28T13:34:53.105Z"
   },
   {
    "duration": 997,
    "start_time": "2023-12-28T13:34:54.480Z"
   }
  ],
  "kernelspec": {
   "display_name": "Python 3 (ipykernel)",
   "language": "python",
   "name": "python3"
  },
  "language_info": {
   "codemirror_mode": {
    "name": "ipython",
    "version": 3
   },
   "file_extension": ".py",
   "mimetype": "text/x-python",
   "name": "python",
   "nbconvert_exporter": "python",
   "pygments_lexer": "ipython3",
   "version": "3.10.13"
  },
  "toc": {
   "base_numbering": 1,
   "nav_menu": {},
   "number_sections": true,
   "sideBar": true,
   "skip_h1_title": true,
   "title_cell": "Table of Contents",
   "title_sidebar": "Contents",
   "toc_cell": false,
   "toc_position": {},
   "toc_section_display": true,
   "toc_window_display": false
  }
 },
 "nbformat": 4,
 "nbformat_minor": 5
}
